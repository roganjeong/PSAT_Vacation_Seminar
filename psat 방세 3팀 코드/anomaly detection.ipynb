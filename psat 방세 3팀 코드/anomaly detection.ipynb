{
 "cells": [
  {
   "cell_type": "markdown",
   "id": "f743d477-5597-4183-895d-8551b4210586",
   "metadata": {},
   "source": [
    "Checklist:\n",
    "1. Isolation Forest\n",
    "2. Local Outlier Factor\n",
    "3. Robust Covariance\n",
    "4. One-Class SVM\n",
    "5. One-Class SVM (SGD)"
   ]
  },
  {
   "cell_type": "markdown",
   "id": "40ded2d2-0edd-4d3e-afdf-82446ef4c243",
   "metadata": {},
   "source": [
    "# Isolation Forest"
   ]
  },
  {
   "cell_type": "code",
   "execution_count": 1,
   "id": "2421beb7-8a2b-460f-a285-a8d1012131f6",
   "metadata": {},
   "outputs": [],
   "source": [
    "import pandas as pd\n",
    "import numpy as np\n"
   ]
  },
  {
   "cell_type": "code",
   "execution_count": 53,
   "id": "a1a8a4d3-4e08-418c-be7e-d2204af3352e",
   "metadata": {},
   "outputs": [],
   "source": [
    "train = pd.read_csv('/home/jupyter/psat/data/train_oe_br_hr.csv')\n",
    "test = pd.read_csv('/home/jupyter/psat/data/test_oe_br_hr.csv')"
   ]
  },
  {
   "cell_type": "code",
   "execution_count": 54,
   "id": "03104bbd-a2df-4721-b501-967243b5f2d4",
   "metadata": {},
   "outputs": [],
   "source": [
    "for_y = pd.read_csv('/home/jupyter/psat/data/train.csv')"
   ]
  },
  {
   "cell_type": "code",
   "execution_count": 55,
   "id": "6adcd8ec-33ac-42c2-bc3e-850e75c34067",
   "metadata": {},
   "outputs": [],
   "source": [
    "y_train = for_y['target']"
   ]
  },
  {
   "cell_type": "code",
   "execution_count": 56,
   "id": "09141042-5e69-4500-9c40-2fbda017a68f",
   "metadata": {},
   "outputs": [
    {
     "data": {
      "text/plain": [
       "Index(['target', 'V21', 'V34', 'V35', 'V36', 'V2_cat', 'V4_cat', 'V22_cat',\n",
       "       'V23_cat', 'V25_cat', 'V27_cat', 'V28_cat', 'V29_cat', 'V30_cat',\n",
       "       'V32_cat', 'V1', 'V3', 'V5', 'V14', 'V15', 'V19', 'V20', 'V33', 'V37',\n",
       "       'V6_bin', 'V7_bin', 'V8_bin', 'V9_bin', 'V11_bin', 'V12_bin', 'V16_bin',\n",
       "       'V17_bin', 'V18_bin'],\n",
       "      dtype='object')"
      ]
     },
     "execution_count": 56,
     "metadata": {},
     "output_type": "execute_result"
    }
   ],
   "source": [
    "train.columns"
   ]
  },
  {
   "cell_type": "code",
   "execution_count": 57,
   "id": "5a8cc397-719c-4834-aa84-38e8e4053514",
   "metadata": {},
   "outputs": [],
   "source": [
    "train['V1'] = train['V1'].astype(int)\n",
    "train['V2_cat'] = pd.Categorical(train.V2_cat)\n",
    "train['V3'] = train['V3'].astype(int)\n",
    "train['V4_cat'] = pd.Categorical(train.V4_cat)\n",
    "train['V5'] = train['V5'].astype(int)\n",
    "train['V6_bin'] = pd.Categorical(train.V6_bin)\n",
    "train['V7_bin'] = pd.Categorical(train.V7_bin)\n",
    "train['V8_bin'] = pd.Categorical(train.V8_bin)\n",
    "train['V9_bin'] = pd.Categorical(train.V9_bin)\n",
    "# train['V10_bin'] = pd.Categorical(train.V10_bin)\n",
    "train['V11_bin'] = pd.Categorical(train.V11_bin)\n",
    "train['V12_bin'] = pd.Categorical(train.V12_bin)\n",
    "# train['V13_bin'] = pd.Categorical(train.V13_bin)\n",
    "train['V14'] = train['V14'].astype(int)\n",
    "train['V15'] = train['V15'].astype(int)\n",
    "train['V16_bin'] = pd.Categorical(train.V16_bin)\n",
    "train['V17_bin'] = pd.Categorical(train.V17_bin)\n",
    "train['V18_bin'] = pd.Categorical(train.V18_bin)\n",
    "# train['V19'] = train['V19'].astype(int)\n",
    "# train['V20'] = train['V20'].astype(int)\n",
    "train['V22_cat'] = pd.Categorical(train.V22_cat)\n",
    "train['V23_cat'] = pd.Categorical(train.V23_cat)\n",
    "train['V25_cat'] = pd.Categorical(train.V25_cat)\n",
    "train['V27_cat'] = pd.Categorical(train.V27_cat)\n",
    "train['V28_cat'] = pd.Categorical(train.V28_cat)\n",
    "train['V29_cat'] = pd.Categorical(train.V29_cat)\n",
    "train['V30_cat'] = pd.Categorical(train.V30_cat)\n",
    "# train['V31_cat'] = pd.Categorical(train.V31_cat)\n",
    "train['V32_cat'] = pd.Categorical(train.V32_cat)\n",
    "# train['V41'] = train['V41'].astype(int)\n",
    "# train['V42'] = train['V42'].astype(int)\n",
    "# train['V43'] = train['V43'].astype(int)\n",
    "# train['V44'] = train['V44'].astype(int)\n",
    "# train['V45'] = train['V45'].astype(int)\n",
    "# train['V47'] = train['V47'].astype(int)\n",
    "# train['V48'] = train['V48'].astype(int)\n",
    "# train['V49'] = train['V49'].astype(int)\n",
    "# train['V50'] = train['V50'].astype(int)\n",
    "# train['V51'] = train['V51'].astype(int)\n",
    "# train['V52_cat'] = pd.Categorical(train.V52_bin)\n",
    "# train['V53_cat'] = pd.Categorical(train.V53_bin)\n",
    "# train['V54_cat'] = pd.Categorical(train.V54_bin)\n",
    "# train['V55_cat'] = pd.Categorical(train.V55_bin)\n",
    "# train['V56_cat'] = pd.Categorical(train.V56_bin)\n",
    "# train['V57_cat'] = pd.Categorical(train.V57_bin)\n",
    "y_train = pd.Categorical(y_train)"
   ]
  },
  {
   "cell_type": "code",
   "execution_count": 58,
   "id": "7482fadf-f2f3-4ed8-81da-4f88d9deb9a1",
   "metadata": {
    "tags": []
   },
   "outputs": [],
   "source": [
    "train.drop(['target'], axis=1, inplace=True)"
   ]
  },
  {
   "cell_type": "code",
   "execution_count": 59,
   "id": "9db22505-bb6c-4a75-8a7c-5f9ff06f319e",
   "metadata": {},
   "outputs": [],
   "source": [
    "import numpy as np\n",
    "import pandas as pd\n",
    "import matplotlib.pyplot as plt\n",
    "%matplotlib inline\n",
    "import seaborn as sns\n",
    "sns.set_style(\"darkgrid\")\n",
    "from sklearn.model_selection import train_test_split\n",
    "from sklearn.ensemble import IsolationForest"
   ]
  },
  {
   "cell_type": "code",
   "execution_count": 60,
   "id": "bda0eadf-fb5f-4194-a11f-bd46d0d43130",
   "metadata": {},
   "outputs": [],
   "source": [
    "X_train, X_test, y_train, y_test = train_test_split(train, y_train, test_size=0.2,stratify=y_train, random_state=1111)"
   ]
  },
  {
   "cell_type": "code",
   "execution_count": 89,
   "id": "9f612a37-c249-4331-96b2-e266466737b3",
   "metadata": {},
   "outputs": [
    {
     "name": "stderr",
     "output_type": "stream",
     "text": [
      "/opt/conda/lib/python3.7/site-packages/sklearn/base.py:451: UserWarning: X does not have valid feature names, but IsolationForest was fitted with feature names\n",
      "  \"X does not have valid feature names, but\"\n"
     ]
    }
   ],
   "source": [
    "clf = IsolationForest(n_estimators=100, max_samples=100, contamination = 0.1, random_state=1111)\n",
    "clf.fit(X_train)\n",
    "y_pred_train = clf.predict(X_train)\n",
    "y_pred_test = clf.predict(X_test)"
   ]
  },
  {
   "cell_type": "code",
   "execution_count": 90,
   "id": "5b7de9ab-b5a6-4bc1-8e5d-9160ab68cc3b",
   "metadata": {},
   "outputs": [],
   "source": [
    "y_pred_test = pd.DataFrame(y_pred_test)"
   ]
  },
  {
   "cell_type": "code",
   "execution_count": 93,
   "id": "0d83de20-6c95-4100-8bd8-cc4baab9bda5",
   "metadata": {},
   "outputs": [],
   "source": [
    "for i in range(len(y_pred_test)):\n",
    "    if y_pred_test.iloc[i,0] == 1 :\n",
    "        y_pred_test.iloc[i,0] = 0\n",
    "    else:\n",
    "        y_pred_test.iloc[i,0] = 1"
   ]
  },
  {
   "cell_type": "code",
   "execution_count": 122,
   "id": "209d7870-f615-4c2a-b4d4-d8b0ce1cdf79",
   "metadata": {},
   "outputs": [
    {
     "name": "stdout",
     "output_type": "stream",
     "text": [
      "f1 score : 0.5082414870513909\n"
     ]
    }
   ],
   "source": [
    "from sklearn.metrics import f1_score\n",
    "\n",
    "f1 = f1_score(y_test, y_pred_test,average='macro')\n",
    "print('f1 score :', f1)"
   ]
  },
  {
   "cell_type": "markdown",
   "id": "1156f655-340e-4ba8-b231-dd2b52452874",
   "metadata": {},
   "source": [
    "apply for submission data"
   ]
  },
  {
   "cell_type": "code",
   "execution_count": 15,
   "id": "b61eeb12-5a57-445f-9f29-09e3c18ec1b8",
   "metadata": {},
   "outputs": [],
   "source": [
    "test = pd.read_csv('/home/jupyter/psat/data/test_iterative_imputation_이주형.csv')"
   ]
  },
  {
   "cell_type": "code",
   "execution_count": 48,
   "id": "1af96cbf-9eaa-459b-a422-c6d60d1f9f55",
   "metadata": {},
   "outputs": [],
   "source": [
    "test['V1'] = test['V1'].astype(int)\n",
    "test['V2_cat'] = pd.Categorical(test.V2_cat)\n",
    "test['V3'] = test['V3'].astype(int)\n",
    "test['V4_cat'] = pd.Categorical(test.V4_cat)\n",
    "test['V5'] = test['V5'].astype(int)\n",
    "test['V6_bin'] = pd.Categorical(test.V6_bin)\n",
    "test['V7_bin'] = pd.Categorical(test.V7_bin)\n",
    "test['V8_bin'] = pd.Categorical(test.V8_bin)\n",
    "test['V9_bin'] = pd.Categorical(test.V9_bin)\n",
    "# test['V10_bin'] = pd.Categorical(test.V10_bin)\n",
    "test['V11_bin'] = pd.Categorical(test.V11_bin)\n",
    "test['V12_bin'] = pd.Categorical(test.V12_bin)\n",
    "# test['V13_bin'] = pd.Categorical(test.V13_bin)\n",
    "test['V14'] = test['V14'].astype(int)\n",
    "test['V15'] = test['V15'].astype(int)\n",
    "test['V16_bin'] = pd.Categorical(test.V16_bin)\n",
    "test['V17_bin'] = pd.Categorical(test.V17_bin)\n",
    "test['V18_bin'] = pd.Categorical(test.V18_bin)\n",
    "# test['V19'] = test['V19'].astype(int)\n",
    "# test['V20'] = test['V20'].astype(int)\n",
    "test['V22_cat'] = pd.Categorical(test.V22_cat)\n",
    "test['V23_cat'] = pd.Categorical(test.V23_cat)\n",
    "test['V25_cat'] = pd.Categorical(test.V25_cat)\n",
    "test['V27_cat'] = pd.Categorical(test.V27_cat)\n",
    "test['V28_cat'] = pd.Categorical(test.V28_cat)\n",
    "test['V29_cat'] = pd.Categorical(test.V29_cat)\n",
    "test['V30_cat'] = pd.Categorical(test.V30_cat)\n",
    "# test['V31_cat'] = pd.Categorical(test.V31_cat)\n",
    "test['V32_cat'] = pd.Categorical(test.V32_cat)\n",
    "# test['V41'] = test['V41'].astype(int)\n",
    "# test['V42'] = test['V42'].astype(int)\n",
    "# test['V43'] = test['V43'].astype(int)\n",
    "# test['V44'] = test['V44'].astype(int)\n",
    "# test['V45'] = test['V45'].astype(int)\n",
    "# test['V47'] = test['V47'].astype(int)\n",
    "# test['V48'] = test['V48'].astype(int)\n",
    "# test['V49'] = test['V49'].astype(int)\n",
    "# test['V50'] = test['V50'].astype(int)\n",
    "# test['V51'] = test['V51'].astype(int)\n",
    "# test['V52_cat'] = pd.Categorical(test.V52_bin)\n",
    "# test['V53_cat'] = pd.Categorical(test.V53_bin)\n",
    "# test['V54_cat'] = pd.Categorical(test.V54_bin)\n",
    "# test['V55_cat'] = pd.Categorical(test.V55_bin)\n",
    "# test['V56_cat'] = pd.Categorical(test.V56_bin)\n",
    "# test['V57_cat'] = pd.Categorical(test.V57_bin)\n",
    "y_test = pd.Categorical(y_test)"
   ]
  },
  {
   "cell_type": "code",
   "execution_count": 49,
   "id": "9c28b8eb-d7f0-4ff4-b6b6-13b806c676e7",
   "metadata": {},
   "outputs": [
    {
     "data": {
      "text/plain": [
       "32"
      ]
     },
     "execution_count": 49,
     "metadata": {},
     "output_type": "execute_result"
    }
   ],
   "source": [
    "len(test.columns)\n",
    "# len(train.columns)"
   ]
  },
  {
   "cell_type": "code",
   "execution_count": 18,
   "id": "3f7718da-255e-4921-9934-4cfe81d1f417",
   "metadata": {},
   "outputs": [],
   "source": [
    "pred_sub = clf.predict(test)"
   ]
  },
  {
   "cell_type": "code",
   "execution_count": 19,
   "id": "c617cdf6-f10a-4b04-a41c-0da7c70b044f",
   "metadata": {},
   "outputs": [],
   "source": [
    "pred_sub = pd.DataFrame(pred_sub)\n",
    "for i in range(len(pred_sub)):\n",
    "    if pred_sub.iloc[i,0] == 1 :\n",
    "        pred_sub.iloc[i,0] = 0\n",
    "    else:\n",
    "        pred_sub.iloc[i,0] = 1"
   ]
  },
  {
   "cell_type": "code",
   "execution_count": 97,
   "id": "934acf95-f9c0-48b5-913b-2efaf46cab0b",
   "metadata": {},
   "outputs": [],
   "source": [
    "pred_sub.to_csv('/home/jupyter/psat/data/for_sub.csv')"
   ]
  },
  {
   "cell_type": "code",
   "execution_count": 34,
   "id": "e2707288-7ea0-4b2b-a67b-b4b980341066",
   "metadata": {},
   "outputs": [],
   "source": [
    "actual = pd.read_csv('/home/jupyter/psat/data/submission.csv')"
   ]
  },
  {
   "cell_type": "code",
   "execution_count": 101,
   "id": "43db0d12-230a-4d9d-adb0-187361485fa9",
   "metadata": {},
   "outputs": [],
   "source": [
    "actual = actual.iloc[:,1]"
   ]
  },
  {
   "cell_type": "code",
   "execution_count": 102,
   "id": "2fcb43c6-0460-4a78-912d-cd7b359ec28c",
   "metadata": {},
   "outputs": [
    {
     "name": "stdout",
     "output_type": "stream",
     "text": [
      "f1 score : 0.4986895454850922\n"
     ]
    }
   ],
   "source": [
    "f1 = f1_score(actual, pred_sub,average='micro')\n",
    "print('f1 score :', f1)"
   ]
  },
  {
   "cell_type": "code",
   "execution_count": 116,
   "id": "ea01d513-5259-42bb-a221-3019b982c7b7",
   "metadata": {},
   "outputs": [],
   "source": [
    "actual.drop(['target'], axis=1, inplace=True)"
   ]
  },
  {
   "cell_type": "code",
   "execution_count": 117,
   "id": "9fce1413-e932-47bc-b30c-c2718f2fd94d",
   "metadata": {},
   "outputs": [],
   "source": [
    "actual['target'] = pred_sub"
   ]
  },
  {
   "cell_type": "code",
   "execution_count": 118,
   "id": "abf12712-a5c8-4085-a2f7-667bff9157fd",
   "metadata": {},
   "outputs": [
    {
     "data": {
      "text/html": [
       "<div>\n",
       "<style scoped>\n",
       "    .dataframe tbody tr th:only-of-type {\n",
       "        vertical-align: middle;\n",
       "    }\n",
       "\n",
       "    .dataframe tbody tr th {\n",
       "        vertical-align: top;\n",
       "    }\n",
       "\n",
       "    .dataframe thead th {\n",
       "        text-align: right;\n",
       "    }\n",
       "</style>\n",
       "<table border=\"1\" class=\"dataframe\">\n",
       "  <thead>\n",
       "    <tr style=\"text-align: right;\">\n",
       "      <th></th>\n",
       "      <th>id</th>\n",
       "      <th>target</th>\n",
       "    </tr>\n",
       "  </thead>\n",
       "  <tbody>\n",
       "    <tr>\n",
       "      <th>0</th>\n",
       "      <td>1</td>\n",
       "      <td>0</td>\n",
       "    </tr>\n",
       "    <tr>\n",
       "      <th>1</th>\n",
       "      <td>2</td>\n",
       "      <td>0</td>\n",
       "    </tr>\n",
       "    <tr>\n",
       "      <th>2</th>\n",
       "      <td>3</td>\n",
       "      <td>0</td>\n",
       "    </tr>\n",
       "    <tr>\n",
       "      <th>3</th>\n",
       "      <td>4</td>\n",
       "      <td>0</td>\n",
       "    </tr>\n",
       "    <tr>\n",
       "      <th>4</th>\n",
       "      <td>5</td>\n",
       "      <td>0</td>\n",
       "    </tr>\n",
       "    <tr>\n",
       "      <th>...</th>\n",
       "      <td>...</td>\n",
       "      <td>...</td>\n",
       "    </tr>\n",
       "    <tr>\n",
       "      <th>178559</th>\n",
       "      <td>178560</td>\n",
       "      <td>0</td>\n",
       "    </tr>\n",
       "    <tr>\n",
       "      <th>178560</th>\n",
       "      <td>178561</td>\n",
       "      <td>0</td>\n",
       "    </tr>\n",
       "    <tr>\n",
       "      <th>178561</th>\n",
       "      <td>178562</td>\n",
       "      <td>0</td>\n",
       "    </tr>\n",
       "    <tr>\n",
       "      <th>178562</th>\n",
       "      <td>178563</td>\n",
       "      <td>0</td>\n",
       "    </tr>\n",
       "    <tr>\n",
       "      <th>178563</th>\n",
       "      <td>178564</td>\n",
       "      <td>0</td>\n",
       "    </tr>\n",
       "  </tbody>\n",
       "</table>\n",
       "<p>178564 rows × 2 columns</p>\n",
       "</div>"
      ],
      "text/plain": [
       "            id  target\n",
       "0            1       0\n",
       "1            2       0\n",
       "2            3       0\n",
       "3            4       0\n",
       "4            5       0\n",
       "...        ...     ...\n",
       "178559  178560       0\n",
       "178560  178561       0\n",
       "178561  178562       0\n",
       "178562  178563       0\n",
       "178563  178564       0\n",
       "\n",
       "[178564 rows x 2 columns]"
      ]
     },
     "execution_count": 118,
     "metadata": {},
     "output_type": "execute_result"
    }
   ],
   "source": [
    "actual"
   ]
  },
  {
   "cell_type": "code",
   "execution_count": 120,
   "id": "9fc3938e-d3e0-4ab6-8712-3f4b8af0cd81",
   "metadata": {},
   "outputs": [],
   "source": [
    "actual.to_csv('/home/jupyter/psat/data/for_sub (1).csv', index=False)"
   ]
  },
  {
   "cell_type": "code",
   "execution_count": 14,
   "id": "036dfd9f-9151-42a8-8d15-319324b24da1",
   "metadata": {},
   "outputs": [],
   "source": [
    "import sys, getopt, os, pickle\n",
    "import pandas as pd\n",
    "import numpy as np\n",
    "import math\n",
    "import optuna\n",
    "# from notebooks.util.training import load_data, load_data_fraud, anomaly_scores, evaluate_results, evaluate_predictions\n",
    "from sklearn.preprocessing import StandardScaler, RobustScaler, QuantileTransformer, MinMaxScaler\n",
    "from sklearn.model_selection import train_test_split\n",
    "\n",
    "from sklearn.decomposition import PCA\n",
    "from sklearn.ensemble import IsolationForest\n",
    "\n",
    "from optuna.samplers import TPESampler\n",
    "from sklearn.metrics import f1_score"
   ]
  },
  {
   "cell_type": "code",
   "execution_count": null,
   "id": "a63f55e7-791e-4d65-9454-f199f06628d3",
   "metadata": {},
   "outputs": [],
   "source": []
  },
  {
   "cell_type": "code",
   "execution_count": 19,
   "id": "66e5a400-123f-45b6-a358-877b486f3c82",
   "metadata": {},
   "outputs": [],
   "source": [
    "def objective_if(trial):\n",
    "    # global X_train\n",
    "    # global X_test\n",
    "    \n",
    "    params={\n",
    "        \n",
    "        'n_estimators' :trial.suggest_int('n_estimators', 110, 300),\n",
    "        'max_samples' : trial.suggest_uniform('max_samples', 0.15, 0.65),\n",
    "        'contamination' : trial.suggest_loguniform('contamination', 0.034, 0.075),\n",
    "        'max_features' : trial.suggest_uniform('max_features', 0.3, 0.75),\n",
    "        'bootstrap' : trial.suggest_categorical('bootstrap', [True, False]) }\n",
    "    \n",
    "    # 아래 잘못된 변수명 있으면 고치기 \n",
    "    \n",
    "    clf = IsolationForest(**params)\n",
    "    clf.fit(X_train) \n",
    "    y_pred_train = clf.predict(X_train)\n",
    "    y_pred_test = clf.predict(X_test)\n",
    "    \n",
    "    y_pred_test = pd.DataFrame(y_pred_test)\n",
    "    y_pred = []\n",
    "    \n",
    "    \n",
    "    for i in range(len(y_pred_test)):\n",
    "        if y_pred_test.iloc[i,0] == 1 :\n",
    "            y_pred_test.iloc[i,0] = 0\n",
    "        else:\n",
    "            y_pred_test.iloc[i,0] = 1\n",
    "        \n",
    "    f1 = f1_score(y_test, y_pred_test,average='macro')\n",
    "    \n",
    "    return f1\n",
    "    "
   ]
  },
  {
   "cell_type": "code",
   "execution_count": 20,
   "id": "ee91bced-ff61-440e-b1de-5a756960ea54",
   "metadata": {
    "tags": []
   },
   "outputs": [
    {
     "name": "stderr",
     "output_type": "stream",
     "text": [
      "\u001b[32m[I 2022-08-04 07:02:25,123]\u001b[0m A new study created in memory with name: no-name-da06e42f-b41f-485d-b6a4-17c7cb58c95e\u001b[0m\n",
      "/opt/conda/lib/python3.7/site-packages/sklearn/base.py:451: UserWarning: X does not have valid feature names, but IsolationForest was fitted with feature names\n",
      "  \"X does not have valid feature names, but\"\n",
      "\u001b[32m[I 2022-08-04 07:05:09,779]\u001b[0m Trial 0 finished with value: 0.5185198698289287 and parameters: {'n_estimators': 258, 'max_samples': 0.45614705126048627, 'contamination': 0.03740564993196197, 'max_features': 0.5241798374295081, 'bootstrap': True}. Best is trial 0 with value: 0.5185198698289287.\u001b[0m\n",
      "/opt/conda/lib/python3.7/site-packages/sklearn/base.py:451: UserWarning: X does not have valid feature names, but IsolationForest was fitted with feature names\n",
      "  \"X does not have valid feature names, but\"\n",
      "\u001b[32m[I 2022-08-04 07:06:56,129]\u001b[0m Trial 1 finished with value: 0.5173169034052171 and parameters: {'n_estimators': 190, 'max_samples': 0.1868317840901549, 'contamination': 0.052183080620861085, 'max_features': 0.5434282624077627, 'bootstrap': False}. Best is trial 0 with value: 0.5185198698289287.\u001b[0m\n",
      "/opt/conda/lib/python3.7/site-packages/sklearn/base.py:451: UserWarning: X does not have valid feature names, but IsolationForest was fitted with feature names\n",
      "  \"X does not have valid feature names, but\"\n",
      "\u001b[32m[I 2022-08-04 07:07:56,067]\u001b[0m Trial 2 finished with value: 0.5182771565376589 and parameters: {'n_estimators': 110, 'max_samples': 0.15573053710939647, 'contamination': 0.049833133064071104, 'max_features': 0.36165580674433284, 'bootstrap': False}. Best is trial 0 with value: 0.5185198698289287.\u001b[0m\n",
      "/opt/conda/lib/python3.7/site-packages/sklearn/base.py:451: UserWarning: X does not have valid feature names, but IsolationForest was fitted with feature names\n",
      "  \"X does not have valid feature names, but\"\n",
      "\u001b[32m[I 2022-08-04 07:10:11,505]\u001b[0m Trial 3 finished with value: 0.517730500841362 and parameters: {'n_estimators': 230, 'max_samples': 0.27474779837681906, 'contamination': 0.036427511462396575, 'max_features': 0.5235509909473972, 'bootstrap': True}. Best is trial 0 with value: 0.5185198698289287.\u001b[0m\n",
      "/opt/conda/lib/python3.7/site-packages/sklearn/base.py:451: UserWarning: X does not have valid feature names, but IsolationForest was fitted with feature names\n",
      "  \"X does not have valid feature names, but\"\n",
      "\u001b[32m[I 2022-08-04 07:12:29,345]\u001b[0m Trial 4 finished with value: 0.5179564307099671 and parameters: {'n_estimators': 212, 'max_samples': 0.4412970023766878, 'contamination': 0.06353520319136069, 'max_features': 0.44879830877087756, 'bootstrap': False}. Best is trial 0 with value: 0.5185198698289287.\u001b[0m\n",
      "/opt/conda/lib/python3.7/site-packages/sklearn/base.py:451: UserWarning: X does not have valid feature names, but IsolationForest was fitted with feature names\n",
      "  \"X does not have valid feature names, but\"\n",
      "\u001b[32m[I 2022-08-04 07:14:57,563]\u001b[0m Trial 5 finished with value: 0.5189960195755344 and parameters: {'n_estimators': 257, 'max_samples': 0.4202959209404409, 'contamination': 0.051808006051445886, 'max_features': 0.31587812440074137, 'bootstrap': True}. Best is trial 5 with value: 0.5189960195755344.\u001b[0m\n",
      "/opt/conda/lib/python3.7/site-packages/sklearn/base.py:451: UserWarning: X does not have valid feature names, but IsolationForest was fitted with feature names\n",
      "  \"X does not have valid feature names, but\"\n",
      "\u001b[32m[I 2022-08-04 07:16:22,785]\u001b[0m Trial 6 finished with value: 0.5170154939945858 and parameters: {'n_estimators': 141, 'max_samples': 0.37267644817099943, 'contamination': 0.053119138294035764, 'max_features': 0.46177000072151464, 'bootstrap': True}. Best is trial 5 with value: 0.5189960195755344.\u001b[0m\n",
      "/opt/conda/lib/python3.7/site-packages/sklearn/base.py:451: UserWarning: X does not have valid feature names, but IsolationForest was fitted with feature names\n",
      "  \"X does not have valid feature names, but\"\n",
      "\u001b[32m[I 2022-08-04 07:17:54,369]\u001b[0m Trial 7 finished with value: 0.5176840998787873 and parameters: {'n_estimators': 167, 'max_samples': 0.2838130168663141, 'contamination': 0.05534275449778478, 'max_features': 0.3219717472477957, 'bootstrap': True}. Best is trial 5 with value: 0.5189960195755344.\u001b[0m\n",
      "/opt/conda/lib/python3.7/site-packages/sklearn/base.py:451: UserWarning: X does not have valid feature names, but IsolationForest was fitted with feature names\n",
      "  \"X does not have valid feature names, but\"\n",
      "\u001b[32m[I 2022-08-04 07:20:25,570]\u001b[0m Trial 8 finished with value: 0.5187338459651041 and parameters: {'n_estimators': 238, 'max_samples': 0.4310097718139897, 'contamination': 0.04899275592727921, 'max_features': 0.41381341483816336, 'bootstrap': False}. Best is trial 5 with value: 0.5189960195755344.\u001b[0m\n",
      "/opt/conda/lib/python3.7/site-packages/sklearn/base.py:451: UserWarning: X does not have valid feature names, but IsolationForest was fitted with feature names\n",
      "  \"X does not have valid feature names, but\"\n",
      "\u001b[32m[I 2022-08-04 07:21:44,596]\u001b[0m Trial 9 finished with value: 0.5157339791589075 and parameters: {'n_estimators': 127, 'max_samples': 0.49183269469807356, 'contamination': 0.06988056640894064, 'max_features': 0.31173739238755804, 'bootstrap': False}. Best is trial 5 with value: 0.5189960195755344.\u001b[0m\n",
      "/opt/conda/lib/python3.7/site-packages/sklearn/base.py:451: UserWarning: X does not have valid feature names, but IsolationForest was fitted with feature names\n",
      "  \"X does not have valid feature names, but\"\n",
      "\u001b[32m[I 2022-08-04 07:25:06,027]\u001b[0m Trial 10 finished with value: 0.5173950564450238 and parameters: {'n_estimators': 292, 'max_samples': 0.6322582693569856, 'contamination': 0.04315310571399833, 'max_features': 0.6651654674788123, 'bootstrap': True}. Best is trial 5 with value: 0.5189960195755344.\u001b[0m\n",
      "/opt/conda/lib/python3.7/site-packages/sklearn/base.py:451: UserWarning: X does not have valid feature names, but IsolationForest was fitted with feature names\n",
      "  \"X does not have valid feature names, but\"\n",
      "\u001b[32m[I 2022-08-04 07:27:48,679]\u001b[0m Trial 11 finished with value: 0.5176757091593656 and parameters: {'n_estimators': 257, 'max_samples': 0.5457866182190104, 'contamination': 0.04432855691277028, 'max_features': 0.4039179342990193, 'bootstrap': False}. Best is trial 5 with value: 0.5189960195755344.\u001b[0m\n",
      "/opt/conda/lib/python3.7/site-packages/sklearn/base.py:451: UserWarning: X does not have valid feature names, but IsolationForest was fitted with feature names\n",
      "  \"X does not have valid feature names, but\"\n",
      "\u001b[32m[I 2022-08-04 07:30:26,467]\u001b[0m Trial 12 finished with value: 0.5167290860870833 and parameters: {'n_estimators': 285, 'max_samples': 0.3690983708756575, 'contamination': 0.043674315211470645, 'max_features': 0.3820212023514319, 'bootstrap': True}. Best is trial 5 with value: 0.5189960195755344.\u001b[0m\n",
      "/opt/conda/lib/python3.7/site-packages/sklearn/base.py:451: UserWarning: X does not have valid feature names, but IsolationForest was fitted with feature names\n",
      "  \"X does not have valid feature names, but\"\n",
      "\u001b[32m[I 2022-08-04 07:33:23,496]\u001b[0m Trial 13 finished with value: 0.5177511028517597 and parameters: {'n_estimators': 242, 'max_samples': 0.5579934678946838, 'contamination': 0.06033799245754825, 'max_features': 0.7407531685746387, 'bootstrap': False}. Best is trial 5 with value: 0.5189960195755344.\u001b[0m\n",
      "/opt/conda/lib/python3.7/site-packages/sklearn/base.py:451: UserWarning: X does not have valid feature names, but IsolationForest was fitted with feature names\n",
      "  \"X does not have valid feature names, but\"\n",
      "\u001b[32m[I 2022-08-04 07:35:15,839]\u001b[0m Trial 14 finished with value: 0.5178510527034091 and parameters: {'n_estimators': 203, 'max_samples': 0.31437472176841574, 'contamination': 0.046913187615967744, 'max_features': 0.4358092804020994, 'bootstrap': True}. Best is trial 5 with value: 0.5189960195755344.\u001b[0m\n",
      "/opt/conda/lib/python3.7/site-packages/sklearn/base.py:451: UserWarning: X does not have valid feature names, but IsolationForest was fitted with feature names\n",
      "  \"X does not have valid feature names, but\"\n",
      "\u001b[32m[I 2022-08-04 07:37:59,351]\u001b[0m Trial 15 finished with value: 0.5163977856802591 and parameters: {'n_estimators': 271, 'max_samples': 0.4052046693972896, 'contamination': 0.05897079723182311, 'max_features': 0.3474250743846239, 'bootstrap': False}. Best is trial 5 with value: 0.5189960195755344.\u001b[0m\n",
      "/opt/conda/lib/python3.7/site-packages/sklearn/base.py:451: UserWarning: X does not have valid feature names, but IsolationForest was fitted with feature names\n",
      "  \"X does not have valid feature names, but\"\n",
      "\u001b[32m[I 2022-08-04 07:40:07,356]\u001b[0m Trial 16 finished with value: 0.5168778392212068 and parameters: {'n_estimators': 221, 'max_samples': 0.5243977883176711, 'contamination': 0.0693494005216813, 'max_features': 0.3035957018749733, 'bootstrap': True}. Best is trial 5 with value: 0.5189960195755344.\u001b[0m\n",
      "/opt/conda/lib/python3.7/site-packages/sklearn/base.py:451: UserWarning: X does not have valid feature names, but IsolationForest was fitted with feature names\n",
      "  \"X does not have valid feature names, but\"\n",
      "\u001b[32m[I 2022-08-04 07:42:13,525]\u001b[0m Trial 17 finished with value: 0.5177199755350199 and parameters: {'n_estimators': 175, 'max_samples': 0.6107338667107127, 'contamination': 0.04115416310396971, 'max_features': 0.5766851193161748, 'bootstrap': False}. Best is trial 5 with value: 0.5189960195755344.\u001b[0m\n",
      "/opt/conda/lib/python3.7/site-packages/sklearn/base.py:451: UserWarning: X does not have valid feature names, but IsolationForest was fitted with feature names\n",
      "  \"X does not have valid feature names, but\"\n",
      "\u001b[32m[I 2022-08-04 07:44:30,376]\u001b[0m Trial 18 finished with value: 0.5177895287829147 and parameters: {'n_estimators': 243, 'max_samples': 0.33298327013155826, 'contamination': 0.047861899192796147, 'max_features': 0.39885789641251523, 'bootstrap': False}. Best is trial 5 with value: 0.5189960195755344.\u001b[0m\n",
      "/opt/conda/lib/python3.7/site-packages/sklearn/base.py:451: UserWarning: X does not have valid feature names, but IsolationForest was fitted with feature names\n",
      "  \"X does not have valid feature names, but\"\n",
      "\u001b[32m[I 2022-08-04 07:47:16,646]\u001b[0m Trial 19 finished with value: 0.517756062832107 and parameters: {'n_estimators': 299, 'max_samples': 0.2336844421220153, 'contamination': 0.05686222509869738, 'max_features': 0.4889995635991662, 'bootstrap': True}. Best is trial 5 with value: 0.5189960195755344.\u001b[0m\n",
      "/opt/conda/lib/python3.7/site-packages/sklearn/base.py:451: UserWarning: X does not have valid feature names, but IsolationForest was fitted with feature names\n",
      "  \"X does not have valid feature names, but\"\n",
      "\u001b[32m[I 2022-08-04 07:50:24,579]\u001b[0m Trial 20 finished with value: 0.5174068467903667 and parameters: {'n_estimators': 275, 'max_samples': 0.4320418382962832, 'contamination': 0.038265377452849345, 'max_features': 0.6024397494738529, 'bootstrap': False}. Best is trial 5 with value: 0.5189960195755344.\u001b[0m\n",
      "/opt/conda/lib/python3.7/site-packages/sklearn/base.py:451: UserWarning: X does not have valid feature names, but IsolationForest was fitted with feature names\n",
      "  \"X does not have valid feature names, but\"\n",
      "\u001b[32m[I 2022-08-04 07:53:08,383]\u001b[0m Trial 21 finished with value: 0.5177000696577214 and parameters: {'n_estimators': 261, 'max_samples': 0.46957104096171565, 'contamination': 0.03964424656339058, 'max_features': 0.49889584142059945, 'bootstrap': True}. Best is trial 5 with value: 0.5189960195755344.\u001b[0m\n",
      "/opt/conda/lib/python3.7/site-packages/sklearn/base.py:451: UserWarning: X does not have valid feature names, but IsolationForest was fitted with feature names\n",
      "  \"X does not have valid feature names, but\"\n",
      "\u001b[32m[I 2022-08-04 07:55:50,797]\u001b[0m Trial 22 finished with value: 0.517938332917617 and parameters: {'n_estimators': 242, 'max_samples': 0.4810217525260676, 'contamination': 0.03610920868804251, 'max_features': 0.6130739135062826, 'bootstrap': True}. Best is trial 5 with value: 0.5189960195755344.\u001b[0m\n",
      "/opt/conda/lib/python3.7/site-packages/sklearn/base.py:451: UserWarning: X does not have valid feature names, but IsolationForest was fitted with feature names\n",
      "  \"X does not have valid feature names, but\"\n",
      "\u001b[32m[I 2022-08-04 07:58:26,915]\u001b[0m Trial 23 finished with value: 0.5169733560219928 and parameters: {'n_estimators': 256, 'max_samples': 0.4043290211140954, 'contamination': 0.07458834092253053, 'max_features': 0.41933092741220046, 'bootstrap': True}. Best is trial 5 with value: 0.5189960195755344.\u001b[0m\n",
      "/opt/conda/lib/python3.7/site-packages/sklearn/base.py:451: UserWarning: X does not have valid feature names, but IsolationForest was fitted with feature names\n",
      "  \"X does not have valid feature names, but\"\n",
      "\u001b[32m[I 2022-08-04 08:00:31,606]\u001b[0m Trial 24 finished with value: 0.5189211383891636 and parameters: {'n_estimators': 228, 'max_samples': 0.36620965453990506, 'contamination': 0.03447936670735748, 'max_features': 0.364657911558274, 'bootstrap': True}. Best is trial 5 with value: 0.5189960195755344.\u001b[0m\n",
      "/opt/conda/lib/python3.7/site-packages/sklearn/base.py:451: UserWarning: X does not have valid feature names, but IsolationForest was fitted with feature names\n",
      "  \"X does not have valid feature names, but\"\n",
      "\u001b[32m[I 2022-08-04 08:02:33,518]\u001b[0m Trial 25 finished with value: 0.5167505026457023 and parameters: {'n_estimators': 226, 'max_samples': 0.35188465684888726, 'contamination': 0.04647395130621473, 'max_features': 0.3560933870214255, 'bootstrap': True}. Best is trial 5 with value: 0.5189960195755344.\u001b[0m\n",
      "/opt/conda/lib/python3.7/site-packages/sklearn/base.py:451: UserWarning: X does not have valid feature names, but IsolationForest was fitted with feature names\n",
      "  \"X does not have valid feature names, but\"\n"
     ]
    },
    {
     "ename": "KeyboardInterrupt",
     "evalue": "",
     "output_type": "error",
     "traceback": [
      "\u001b[0;31m---------------------------------------------------------------------------\u001b[0m",
      "\u001b[0;31mKeyboardInterrupt\u001b[0m                         Traceback (most recent call last)",
      "\u001b[0;32m/tmp/ipykernel_1800/3911190498.py\u001b[0m in \u001b[0;36m<module>\u001b[0;34m\u001b[0m\n\u001b[1;32m      7\u001b[0m         sampler=TPESampler())\n\u001b[1;32m      8\u001b[0m \u001b[0;34m\u001b[0m\u001b[0m\n\u001b[0;32m----> 9\u001b[0;31m \u001b[0mstudy\u001b[0m\u001b[0;34m.\u001b[0m\u001b[0moptimize\u001b[0m\u001b[0;34m(\u001b[0m\u001b[0mobjective_if\u001b[0m\u001b[0;34m,\u001b[0m\u001b[0mn_trials\u001b[0m\u001b[0;34m=\u001b[0m\u001b[0;36m40\u001b[0m\u001b[0;34m)\u001b[0m\u001b[0;34m\u001b[0m\u001b[0;34m\u001b[0m\u001b[0m\n\u001b[0m",
      "\u001b[0;32m/opt/conda/lib/python3.7/site-packages/optuna/study/study.py\u001b[0m in \u001b[0;36moptimize\u001b[0;34m(self, func, n_trials, timeout, n_jobs, catch, callbacks, gc_after_trial, show_progress_bar)\u001b[0m\n\u001b[1;32m    407\u001b[0m             \u001b[0mcallbacks\u001b[0m\u001b[0;34m=\u001b[0m\u001b[0mcallbacks\u001b[0m\u001b[0;34m,\u001b[0m\u001b[0;34m\u001b[0m\u001b[0;34m\u001b[0m\u001b[0m\n\u001b[1;32m    408\u001b[0m             \u001b[0mgc_after_trial\u001b[0m\u001b[0;34m=\u001b[0m\u001b[0mgc_after_trial\u001b[0m\u001b[0;34m,\u001b[0m\u001b[0;34m\u001b[0m\u001b[0;34m\u001b[0m\u001b[0m\n\u001b[0;32m--> 409\u001b[0;31m             \u001b[0mshow_progress_bar\u001b[0m\u001b[0;34m=\u001b[0m\u001b[0mshow_progress_bar\u001b[0m\u001b[0;34m,\u001b[0m\u001b[0;34m\u001b[0m\u001b[0;34m\u001b[0m\u001b[0m\n\u001b[0m\u001b[1;32m    410\u001b[0m         )\n\u001b[1;32m    411\u001b[0m \u001b[0;34m\u001b[0m\u001b[0m\n",
      "\u001b[0;32m/opt/conda/lib/python3.7/site-packages/optuna/study/_optimize.py\u001b[0m in \u001b[0;36m_optimize\u001b[0;34m(study, func, n_trials, timeout, n_jobs, catch, callbacks, gc_after_trial, show_progress_bar)\u001b[0m\n\u001b[1;32m     74\u001b[0m                 \u001b[0mreseed_sampler_rng\u001b[0m\u001b[0;34m=\u001b[0m\u001b[0;32mFalse\u001b[0m\u001b[0;34m,\u001b[0m\u001b[0;34m\u001b[0m\u001b[0;34m\u001b[0m\u001b[0m\n\u001b[1;32m     75\u001b[0m                 \u001b[0mtime_start\u001b[0m\u001b[0;34m=\u001b[0m\u001b[0;32mNone\u001b[0m\u001b[0;34m,\u001b[0m\u001b[0;34m\u001b[0m\u001b[0;34m\u001b[0m\u001b[0m\n\u001b[0;32m---> 76\u001b[0;31m                 \u001b[0mprogress_bar\u001b[0m\u001b[0;34m=\u001b[0m\u001b[0mprogress_bar\u001b[0m\u001b[0;34m,\u001b[0m\u001b[0;34m\u001b[0m\u001b[0;34m\u001b[0m\u001b[0m\n\u001b[0m\u001b[1;32m     77\u001b[0m             )\n\u001b[1;32m     78\u001b[0m         \u001b[0;32melse\u001b[0m\u001b[0;34m:\u001b[0m\u001b[0;34m\u001b[0m\u001b[0;34m\u001b[0m\u001b[0m\n",
      "\u001b[0;32m/opt/conda/lib/python3.7/site-packages/optuna/study/_optimize.py\u001b[0m in \u001b[0;36m_optimize_sequential\u001b[0;34m(study, func, n_trials, timeout, catch, callbacks, gc_after_trial, reseed_sampler_rng, time_start, progress_bar)\u001b[0m\n\u001b[1;32m    161\u001b[0m \u001b[0;34m\u001b[0m\u001b[0m\n\u001b[1;32m    162\u001b[0m         \u001b[0;32mtry\u001b[0m\u001b[0;34m:\u001b[0m\u001b[0;34m\u001b[0m\u001b[0;34m\u001b[0m\u001b[0m\n\u001b[0;32m--> 163\u001b[0;31m             \u001b[0mtrial\u001b[0m \u001b[0;34m=\u001b[0m \u001b[0m_run_trial\u001b[0m\u001b[0;34m(\u001b[0m\u001b[0mstudy\u001b[0m\u001b[0;34m,\u001b[0m \u001b[0mfunc\u001b[0m\u001b[0;34m,\u001b[0m \u001b[0mcatch\u001b[0m\u001b[0;34m)\u001b[0m\u001b[0;34m\u001b[0m\u001b[0;34m\u001b[0m\u001b[0m\n\u001b[0m\u001b[1;32m    164\u001b[0m         \u001b[0;32mexcept\u001b[0m \u001b[0mException\u001b[0m\u001b[0;34m:\u001b[0m\u001b[0;34m\u001b[0m\u001b[0;34m\u001b[0m\u001b[0m\n\u001b[1;32m    165\u001b[0m             \u001b[0;32mraise\u001b[0m\u001b[0;34m\u001b[0m\u001b[0;34m\u001b[0m\u001b[0m\n",
      "\u001b[0;32m/opt/conda/lib/python3.7/site-packages/optuna/study/_optimize.py\u001b[0m in \u001b[0;36m_run_trial\u001b[0;34m(study, func, catch)\u001b[0m\n\u001b[1;32m    211\u001b[0m \u001b[0;34m\u001b[0m\u001b[0m\n\u001b[1;32m    212\u001b[0m     \u001b[0;32mtry\u001b[0m\u001b[0;34m:\u001b[0m\u001b[0;34m\u001b[0m\u001b[0;34m\u001b[0m\u001b[0m\n\u001b[0;32m--> 213\u001b[0;31m         \u001b[0mvalue_or_values\u001b[0m \u001b[0;34m=\u001b[0m \u001b[0mfunc\u001b[0m\u001b[0;34m(\u001b[0m\u001b[0mtrial\u001b[0m\u001b[0;34m)\u001b[0m\u001b[0;34m\u001b[0m\u001b[0;34m\u001b[0m\u001b[0m\n\u001b[0m\u001b[1;32m    214\u001b[0m     \u001b[0;32mexcept\u001b[0m \u001b[0mexceptions\u001b[0m\u001b[0;34m.\u001b[0m\u001b[0mTrialPruned\u001b[0m \u001b[0;32mas\u001b[0m \u001b[0me\u001b[0m\u001b[0;34m:\u001b[0m\u001b[0;34m\u001b[0m\u001b[0;34m\u001b[0m\u001b[0m\n\u001b[1;32m    215\u001b[0m         \u001b[0;31m# TODO(mamu): Handle multi-objective cases.\u001b[0m\u001b[0;34m\u001b[0m\u001b[0;34m\u001b[0m\u001b[0;34m\u001b[0m\u001b[0m\n",
      "\u001b[0;32m/tmp/ipykernel_1800/3172861104.py\u001b[0m in \u001b[0;36mobjective_if\u001b[0;34m(trial)\u001b[0m\n\u001b[1;32m     14\u001b[0m \u001b[0;34m\u001b[0m\u001b[0m\n\u001b[1;32m     15\u001b[0m     \u001b[0mclf\u001b[0m \u001b[0;34m=\u001b[0m \u001b[0mIsolationForest\u001b[0m\u001b[0;34m(\u001b[0m\u001b[0;34m**\u001b[0m\u001b[0mparams\u001b[0m\u001b[0;34m)\u001b[0m\u001b[0;34m\u001b[0m\u001b[0;34m\u001b[0m\u001b[0m\n\u001b[0;32m---> 16\u001b[0;31m     \u001b[0mclf\u001b[0m\u001b[0;34m.\u001b[0m\u001b[0mfit\u001b[0m\u001b[0;34m(\u001b[0m\u001b[0mX_train\u001b[0m\u001b[0;34m)\u001b[0m\u001b[0;34m\u001b[0m\u001b[0;34m\u001b[0m\u001b[0m\n\u001b[0m\u001b[1;32m     17\u001b[0m     \u001b[0my_pred_train\u001b[0m \u001b[0;34m=\u001b[0m \u001b[0mclf\u001b[0m\u001b[0;34m.\u001b[0m\u001b[0mpredict\u001b[0m\u001b[0;34m(\u001b[0m\u001b[0mX_train\u001b[0m\u001b[0;34m)\u001b[0m\u001b[0;34m\u001b[0m\u001b[0;34m\u001b[0m\u001b[0m\n\u001b[1;32m     18\u001b[0m     \u001b[0my_pred_test\u001b[0m \u001b[0;34m=\u001b[0m \u001b[0mclf\u001b[0m\u001b[0;34m.\u001b[0m\u001b[0mpredict\u001b[0m\u001b[0;34m(\u001b[0m\u001b[0mX_test\u001b[0m\u001b[0;34m)\u001b[0m\u001b[0;34m\u001b[0m\u001b[0;34m\u001b[0m\u001b[0m\n",
      "\u001b[0;32m/opt/conda/lib/python3.7/site-packages/sklearn/ensemble/_iforest.py\u001b[0m in \u001b[0;36mfit\u001b[0;34m(self, X, y, sample_weight)\u001b[0m\n\u001b[1;32m    316\u001b[0m \u001b[0;34m\u001b[0m\u001b[0m\n\u001b[1;32m    317\u001b[0m         \u001b[0;31m# else, define offset_ wrt contamination parameter\u001b[0m\u001b[0;34m\u001b[0m\u001b[0;34m\u001b[0m\u001b[0;34m\u001b[0m\u001b[0m\n\u001b[0;32m--> 318\u001b[0;31m         \u001b[0mself\u001b[0m\u001b[0;34m.\u001b[0m\u001b[0moffset_\u001b[0m \u001b[0;34m=\u001b[0m \u001b[0mnp\u001b[0m\u001b[0;34m.\u001b[0m\u001b[0mpercentile\u001b[0m\u001b[0;34m(\u001b[0m\u001b[0mself\u001b[0m\u001b[0;34m.\u001b[0m\u001b[0mscore_samples\u001b[0m\u001b[0;34m(\u001b[0m\u001b[0mX\u001b[0m\u001b[0;34m)\u001b[0m\u001b[0;34m,\u001b[0m \u001b[0;36m100.0\u001b[0m \u001b[0;34m*\u001b[0m \u001b[0mself\u001b[0m\u001b[0;34m.\u001b[0m\u001b[0mcontamination\u001b[0m\u001b[0;34m)\u001b[0m\u001b[0;34m\u001b[0m\u001b[0;34m\u001b[0m\u001b[0m\n\u001b[0m\u001b[1;32m    319\u001b[0m \u001b[0;34m\u001b[0m\u001b[0m\n\u001b[1;32m    320\u001b[0m         \u001b[0;32mreturn\u001b[0m \u001b[0mself\u001b[0m\u001b[0;34m\u001b[0m\u001b[0;34m\u001b[0m\u001b[0m\n",
      "\u001b[0;32m/opt/conda/lib/python3.7/site-packages/sklearn/ensemble/_iforest.py\u001b[0m in \u001b[0;36mscore_samples\u001b[0;34m(self, X)\u001b[0m\n\u001b[1;32m    408\u001b[0m         \u001b[0;31m# Take the opposite of the scores as bigger is better (here less\u001b[0m\u001b[0;34m\u001b[0m\u001b[0;34m\u001b[0m\u001b[0;34m\u001b[0m\u001b[0m\n\u001b[1;32m    409\u001b[0m         \u001b[0;31m# abnormal)\u001b[0m\u001b[0;34m\u001b[0m\u001b[0;34m\u001b[0m\u001b[0;34m\u001b[0m\u001b[0m\n\u001b[0;32m--> 410\u001b[0;31m         \u001b[0;32mreturn\u001b[0m \u001b[0;34m-\u001b[0m\u001b[0mself\u001b[0m\u001b[0;34m.\u001b[0m\u001b[0m_compute_chunked_score_samples\u001b[0m\u001b[0;34m(\u001b[0m\u001b[0mX\u001b[0m\u001b[0;34m)\u001b[0m\u001b[0;34m\u001b[0m\u001b[0;34m\u001b[0m\u001b[0m\n\u001b[0m\u001b[1;32m    411\u001b[0m \u001b[0;34m\u001b[0m\u001b[0m\n\u001b[1;32m    412\u001b[0m     \u001b[0;32mdef\u001b[0m \u001b[0m_compute_chunked_score_samples\u001b[0m\u001b[0;34m(\u001b[0m\u001b[0mself\u001b[0m\u001b[0;34m,\u001b[0m \u001b[0mX\u001b[0m\u001b[0;34m)\u001b[0m\u001b[0;34m:\u001b[0m\u001b[0;34m\u001b[0m\u001b[0;34m\u001b[0m\u001b[0m\n",
      "\u001b[0;32m/opt/conda/lib/python3.7/site-packages/sklearn/ensemble/_iforest.py\u001b[0m in \u001b[0;36m_compute_chunked_score_samples\u001b[0;34m(self, X)\u001b[0m\n\u001b[1;32m    439\u001b[0m         \u001b[0;32mfor\u001b[0m \u001b[0msl\u001b[0m \u001b[0;32min\u001b[0m \u001b[0mslices\u001b[0m\u001b[0;34m:\u001b[0m\u001b[0;34m\u001b[0m\u001b[0;34m\u001b[0m\u001b[0m\n\u001b[1;32m    440\u001b[0m             \u001b[0;31m# compute score on the slices of test samples:\u001b[0m\u001b[0;34m\u001b[0m\u001b[0;34m\u001b[0m\u001b[0;34m\u001b[0m\u001b[0m\n\u001b[0;32m--> 441\u001b[0;31m             \u001b[0mscores\u001b[0m\u001b[0;34m[\u001b[0m\u001b[0msl\u001b[0m\u001b[0;34m]\u001b[0m \u001b[0;34m=\u001b[0m \u001b[0mself\u001b[0m\u001b[0;34m.\u001b[0m\u001b[0m_compute_score_samples\u001b[0m\u001b[0;34m(\u001b[0m\u001b[0mX\u001b[0m\u001b[0;34m[\u001b[0m\u001b[0msl\u001b[0m\u001b[0;34m]\u001b[0m\u001b[0;34m,\u001b[0m \u001b[0msubsample_features\u001b[0m\u001b[0;34m)\u001b[0m\u001b[0;34m\u001b[0m\u001b[0;34m\u001b[0m\u001b[0m\n\u001b[0m\u001b[1;32m    442\u001b[0m \u001b[0;34m\u001b[0m\u001b[0m\n\u001b[1;32m    443\u001b[0m         \u001b[0;32mreturn\u001b[0m \u001b[0mscores\u001b[0m\u001b[0;34m\u001b[0m\u001b[0;34m\u001b[0m\u001b[0m\n",
      "\u001b[0;32m/opt/conda/lib/python3.7/site-packages/sklearn/ensemble/_iforest.py\u001b[0m in \u001b[0;36m_compute_score_samples\u001b[0;34m(self, X, subsample_features)\u001b[0m\n\u001b[1;32m    462\u001b[0m             \u001b[0mX_subset\u001b[0m \u001b[0;34m=\u001b[0m \u001b[0mX\u001b[0m\u001b[0;34m[\u001b[0m\u001b[0;34m:\u001b[0m\u001b[0;34m,\u001b[0m \u001b[0mfeatures\u001b[0m\u001b[0;34m]\u001b[0m \u001b[0;32mif\u001b[0m \u001b[0msubsample_features\u001b[0m \u001b[0;32melse\u001b[0m \u001b[0mX\u001b[0m\u001b[0;34m\u001b[0m\u001b[0;34m\u001b[0m\u001b[0m\n\u001b[1;32m    463\u001b[0m \u001b[0;34m\u001b[0m\u001b[0m\n\u001b[0;32m--> 464\u001b[0;31m             \u001b[0mleaves_index\u001b[0m \u001b[0;34m=\u001b[0m \u001b[0mtree\u001b[0m\u001b[0;34m.\u001b[0m\u001b[0mapply\u001b[0m\u001b[0;34m(\u001b[0m\u001b[0mX_subset\u001b[0m\u001b[0;34m)\u001b[0m\u001b[0;34m\u001b[0m\u001b[0;34m\u001b[0m\u001b[0m\n\u001b[0m\u001b[1;32m    465\u001b[0m             \u001b[0mnode_indicator\u001b[0m \u001b[0;34m=\u001b[0m \u001b[0mtree\u001b[0m\u001b[0;34m.\u001b[0m\u001b[0mdecision_path\u001b[0m\u001b[0;34m(\u001b[0m\u001b[0mX_subset\u001b[0m\u001b[0;34m)\u001b[0m\u001b[0;34m\u001b[0m\u001b[0;34m\u001b[0m\u001b[0m\n\u001b[1;32m    466\u001b[0m             \u001b[0mn_samples_leaf\u001b[0m \u001b[0;34m=\u001b[0m \u001b[0mtree\u001b[0m\u001b[0;34m.\u001b[0m\u001b[0mtree_\u001b[0m\u001b[0;34m.\u001b[0m\u001b[0mn_node_samples\u001b[0m\u001b[0;34m[\u001b[0m\u001b[0mleaves_index\u001b[0m\u001b[0;34m]\u001b[0m\u001b[0;34m\u001b[0m\u001b[0;34m\u001b[0m\u001b[0m\n",
      "\u001b[0;32m/opt/conda/lib/python3.7/site-packages/sklearn/tree/_classes.py\u001b[0m in \u001b[0;36mapply\u001b[0;34m(self, X, check_input)\u001b[0m\n\u001b[1;32m    518\u001b[0m         \u001b[0mcheck_is_fitted\u001b[0m\u001b[0;34m(\u001b[0m\u001b[0mself\u001b[0m\u001b[0;34m)\u001b[0m\u001b[0;34m\u001b[0m\u001b[0;34m\u001b[0m\u001b[0m\n\u001b[1;32m    519\u001b[0m         \u001b[0mX\u001b[0m \u001b[0;34m=\u001b[0m \u001b[0mself\u001b[0m\u001b[0;34m.\u001b[0m\u001b[0m_validate_X_predict\u001b[0m\u001b[0;34m(\u001b[0m\u001b[0mX\u001b[0m\u001b[0;34m,\u001b[0m \u001b[0mcheck_input\u001b[0m\u001b[0;34m)\u001b[0m\u001b[0;34m\u001b[0m\u001b[0;34m\u001b[0m\u001b[0m\n\u001b[0;32m--> 520\u001b[0;31m         \u001b[0;32mreturn\u001b[0m \u001b[0mself\u001b[0m\u001b[0;34m.\u001b[0m\u001b[0mtree_\u001b[0m\u001b[0;34m.\u001b[0m\u001b[0mapply\u001b[0m\u001b[0;34m(\u001b[0m\u001b[0mX\u001b[0m\u001b[0;34m)\u001b[0m\u001b[0;34m\u001b[0m\u001b[0;34m\u001b[0m\u001b[0m\n\u001b[0m\u001b[1;32m    521\u001b[0m \u001b[0;34m\u001b[0m\u001b[0m\n\u001b[1;32m    522\u001b[0m     \u001b[0;32mdef\u001b[0m \u001b[0mdecision_path\u001b[0m\u001b[0;34m(\u001b[0m\u001b[0mself\u001b[0m\u001b[0;34m,\u001b[0m \u001b[0mX\u001b[0m\u001b[0;34m,\u001b[0m \u001b[0mcheck_input\u001b[0m\u001b[0;34m=\u001b[0m\u001b[0;32mTrue\u001b[0m\u001b[0;34m)\u001b[0m\u001b[0;34m:\u001b[0m\u001b[0;34m\u001b[0m\u001b[0;34m\u001b[0m\u001b[0m\n",
      "\u001b[0;31mKeyboardInterrupt\u001b[0m: "
     ]
    }
   ],
   "source": [
    "import optuna\n",
    "from optuna import Trial\n",
    "from optuna.samplers import TPESampler\n",
    "\n",
    "study = optuna.create_study(\n",
    "        direction='maximize', \n",
    "        sampler=TPESampler())\n",
    "\n",
    "study.optimize(objective_if,n_trials=40)"
   ]
  },
  {
   "cell_type": "markdown",
   "id": "641ad527-dc6f-487b-9a9c-aa8ff06d48a5",
   "metadata": {},
   "source": [
    "0.5189960195755344 and parameters: {'n_estimators': 257, 'max_samples': 0.4202959209404409, 'contamination': 0.051808006051445886, 'max_features': 0.31587812440074137, 'bootstrap': True}"
   ]
  },
  {
   "cell_type": "markdown",
   "id": "37bf4946-9389-4ecc-851f-d96afa94f8eb",
   "metadata": {},
   "source": [
    "희나 파라미터 :  \n",
    "par3={'n_estimators': 144, \n",
    "      'max_samples': 0.6337143721225216, \n",
    "      'contamination': 0.039341987655990326, \n",
    "      'max_features': 0.7301337076698056, \n",
    "      'bootstrap': False,'random_state':1111}"
   ]
  },
  {
   "cell_type": "markdown",
   "id": "c77c36d4-f0f3-4f53-94bb-7157c8e9b4cd",
   "metadata": {},
   "source": [
    "par5={'n_estimators': 148, \n",
    "      'max_samples': 0.637109665355488, \n",
    "      'contamination': 0.040562698102812676, \n",
    "      'max_features': 0.7392189971666111, \n",
    "      'bootstrap': False,'random_state':1111}"
   ]
  },
  {
   "cell_type": "markdown",
   "id": "8ffd5897-3605-4f3a-942c-27378f27f8d6",
   "metadata": {},
   "source": [
    "0.5187752399018762  \n",
    "parameters: {'n_estimators': 120, 'max_samples': 0.18227221029295582, 'contamination': 0.0345111053286627, 'max_features': 0.40324278672310643, 'bootstrap': False}"
   ]
  },
  {
   "cell_type": "markdown",
   "id": "b3c08380-794d-4d1d-b9d8-ea8643b31193",
   "metadata": {},
   "source": [
    "0.5185215111127686  \n",
    "parameters: {'n_estimators': 117, 'max_samples': 0.3003389018648023, 'contamination': 0.03216871656914971, 'max_features': 0.6316427033565123, 'bootstrap': True}"
   ]
  },
  {
   "cell_type": "markdown",
   "id": "ab48c1b9-474a-4e74-a4ec-3f8437689c12",
   "metadata": {},
   "source": [
    "0.5181367214410473  \n",
    "parameters: {'n_estimators': 191, 'max_samples': 0.4417392073310414, 'contamination': 0.03815563200400253, 'max_features': 0.4360273594373456, 'bootstrap': True}"
   ]
  },
  {
   "cell_type": "markdown",
   "id": "412a1587-497e-4897-81b4-fcb59bec596a",
   "metadata": {},
   "source": [
    "0.5181367214410473  \n",
    "parameters: {'n_estimators': 191, 'max_samples': 0.4417392073310414, 'contamination': 0.03815563200400253, 'max_features': 0.4360273594373456, 'bootstrap': True}"
   ]
  },
  {
   "cell_type": "markdown",
   "id": "24be55f8-c120-4dbd-84d9-941c23d2fb3d",
   "metadata": {},
   "source": [
    "0.518153122509907  \n",
    "parameters: {'n_estimators': 273, 'max_samples': 0.2698878360322789, 'contamination': 0.06486412356629091, 'max_features': 0.32664054108342055, 'bootstrap': False}"
   ]
  },
  {
   "cell_type": "markdown",
   "id": "1bef8c61-8149-4164-a813-f39d2e2f6e4c",
   "metadata": {},
   "source": [
    "n_estimators : 110 - 300 \n",
    "max_samples : 0.15 - 0.65  \n",
    "contamination : 0.034 - 0.075\n",
    "max_features : 0.3 - 0.75"
   ]
  },
  {
   "cell_type": "markdown",
   "id": "d5f9153b-789b-4049-b913-5e7cd74a9a93",
   "metadata": {},
   "source": [
    "# 변수 선택하고 다시 마지막으로 돌려보기, 근데 변수 선택을 어떻게 하지....!!?!??!?"
   ]
  },
  {
   "cell_type": "code",
   "execution_count": 26,
   "id": "301b8785-83cc-436c-b277-c56bd14ddea1",
   "metadata": {},
   "outputs": [
    {
     "name": "stderr",
     "output_type": "stream",
     "text": [
      "/opt/conda/lib/python3.7/site-packages/sklearn/base.py:451: UserWarning: X does not have valid feature names, but IsolationForest was fitted with feature names\n",
      "  \"X does not have valid feature names, but\"\n"
     ]
    },
    {
     "data": {
      "text/plain": [
       "IsolationForest(bootstrap=True, contamination=0.051808006051445886,\n",
       "                max_features=0.31587812440074137,\n",
       "                max_samples=0.4202959209404409, n_estimators=257,\n",
       "                random_state=1111)"
      ]
     },
     "execution_count": 26,
     "metadata": {},
     "output_type": "execute_result"
    }
   ],
   "source": [
    "clf = IsolationForest(n_estimators=257, max_samples=0.4202959209404409, contamination = 0.051808006051445886, max_features = 0.31587812440074137, bootstrap = True, random_state=1111)\n",
    "clf.fit(train)\n",
    "# y_pred_train = clf.predict(X_train)\n",
    "# y_pred_test = clf.predict(X_test)"
   ]
  },
  {
   "cell_type": "code",
   "execution_count": 30,
   "id": "bfbb7cbb-3c44-43c3-bddd-826a12f18c5c",
   "metadata": {},
   "outputs": [],
   "source": [
    "pred_sub = clf.predict(test)"
   ]
  },
  {
   "cell_type": "code",
   "execution_count": 31,
   "id": "6c11fe95-4a3b-4dc6-9ac6-5ce703e6ab43",
   "metadata": {},
   "outputs": [],
   "source": [
    "pred_sub = pd.DataFrame(pred_sub)\n",
    "for i in range(len(pred_sub)):\n",
    "    if pred_sub.iloc[i,0] == 1 :\n",
    "        pred_sub.iloc[i,0] = 0\n",
    "    else:\n",
    "        pred_sub.iloc[i,0] = 1"
   ]
  },
  {
   "cell_type": "code",
   "execution_count": null,
   "id": "ccdedf2e-1a29-49de-a231-446bb12d463e",
   "metadata": {},
   "outputs": [],
   "source": []
  },
  {
   "cell_type": "code",
   "execution_count": 14,
   "id": "38f3e4d4-132c-431e-8b11-e53bf598e6d9",
   "metadata": {},
   "outputs": [
    {
     "name": "stdout",
     "output_type": "stream",
     "text": [
      "f1 score : 0.5156645989195299\n"
     ]
    }
   ],
   "source": [
    "from sklearn.metrics import f1_score\n",
    "\n",
    "f1 = f1_score(y_test, y_pred_test,average='macro')\n",
    "print('f1 score :', f1)"
   ]
  },
  {
   "cell_type": "code",
   "execution_count": 32,
   "id": "f0c7f391-db88-464d-b182-e38af8bfe863",
   "metadata": {},
   "outputs": [
    {
     "data": {
      "text/html": [
       "<div>\n",
       "<style scoped>\n",
       "    .dataframe tbody tr th:only-of-type {\n",
       "        vertical-align: middle;\n",
       "    }\n",
       "\n",
       "    .dataframe tbody tr th {\n",
       "        vertical-align: top;\n",
       "    }\n",
       "\n",
       "    .dataframe thead th {\n",
       "        text-align: right;\n",
       "    }\n",
       "</style>\n",
       "<table border=\"1\" class=\"dataframe\">\n",
       "  <thead>\n",
       "    <tr style=\"text-align: right;\">\n",
       "      <th></th>\n",
       "      <th>0</th>\n",
       "    </tr>\n",
       "  </thead>\n",
       "  <tbody>\n",
       "    <tr>\n",
       "      <th>0</th>\n",
       "      <td>0</td>\n",
       "    </tr>\n",
       "    <tr>\n",
       "      <th>1</th>\n",
       "      <td>0</td>\n",
       "    </tr>\n",
       "    <tr>\n",
       "      <th>2</th>\n",
       "      <td>0</td>\n",
       "    </tr>\n",
       "    <tr>\n",
       "      <th>3</th>\n",
       "      <td>0</td>\n",
       "    </tr>\n",
       "    <tr>\n",
       "      <th>4</th>\n",
       "      <td>0</td>\n",
       "    </tr>\n",
       "    <tr>\n",
       "      <th>...</th>\n",
       "      <td>...</td>\n",
       "    </tr>\n",
       "    <tr>\n",
       "      <th>178559</th>\n",
       "      <td>0</td>\n",
       "    </tr>\n",
       "    <tr>\n",
       "      <th>178560</th>\n",
       "      <td>0</td>\n",
       "    </tr>\n",
       "    <tr>\n",
       "      <th>178561</th>\n",
       "      <td>0</td>\n",
       "    </tr>\n",
       "    <tr>\n",
       "      <th>178562</th>\n",
       "      <td>0</td>\n",
       "    </tr>\n",
       "    <tr>\n",
       "      <th>178563</th>\n",
       "      <td>1</td>\n",
       "    </tr>\n",
       "  </tbody>\n",
       "</table>\n",
       "<p>178564 rows × 1 columns</p>\n",
       "</div>"
      ],
      "text/plain": [
       "        0\n",
       "0       0\n",
       "1       0\n",
       "2       0\n",
       "3       0\n",
       "4       0\n",
       "...    ..\n",
       "178559  0\n",
       "178560  0\n",
       "178561  0\n",
       "178562  0\n",
       "178563  1\n",
       "\n",
       "[178564 rows x 1 columns]"
      ]
     },
     "execution_count": 32,
     "metadata": {},
     "output_type": "execute_result"
    }
   ],
   "source": [
    "pred_sub"
   ]
  },
  {
   "cell_type": "code",
   "execution_count": 35,
   "id": "bfb1c6e6-7e03-475a-a478-3b63243af568",
   "metadata": {
    "collapsed": true,
    "jupyter": {
     "outputs_hidden": true
    },
    "tags": []
   },
   "outputs": [
    {
     "data": {
      "text/html": [
       "<div>\n",
       "<style scoped>\n",
       "    .dataframe tbody tr th:only-of-type {\n",
       "        vertical-align: middle;\n",
       "    }\n",
       "\n",
       "    .dataframe tbody tr th {\n",
       "        vertical-align: top;\n",
       "    }\n",
       "\n",
       "    .dataframe thead th {\n",
       "        text-align: right;\n",
       "    }\n",
       "</style>\n",
       "<table border=\"1\" class=\"dataframe\">\n",
       "  <thead>\n",
       "    <tr style=\"text-align: right;\">\n",
       "      <th></th>\n",
       "      <th>id</th>\n",
       "      <th>target</th>\n",
       "    </tr>\n",
       "  </thead>\n",
       "  <tbody>\n",
       "    <tr>\n",
       "      <th>0</th>\n",
       "      <td>1</td>\n",
       "      <td>1</td>\n",
       "    </tr>\n",
       "    <tr>\n",
       "      <th>1</th>\n",
       "      <td>2</td>\n",
       "      <td>1</td>\n",
       "    </tr>\n",
       "    <tr>\n",
       "      <th>2</th>\n",
       "      <td>3</td>\n",
       "      <td>0</td>\n",
       "    </tr>\n",
       "    <tr>\n",
       "      <th>3</th>\n",
       "      <td>4</td>\n",
       "      <td>1</td>\n",
       "    </tr>\n",
       "    <tr>\n",
       "      <th>4</th>\n",
       "      <td>5</td>\n",
       "      <td>0</td>\n",
       "    </tr>\n",
       "    <tr>\n",
       "      <th>...</th>\n",
       "      <td>...</td>\n",
       "      <td>...</td>\n",
       "    </tr>\n",
       "    <tr>\n",
       "      <th>178559</th>\n",
       "      <td>178560</td>\n",
       "      <td>0</td>\n",
       "    </tr>\n",
       "    <tr>\n",
       "      <th>178560</th>\n",
       "      <td>178561</td>\n",
       "      <td>0</td>\n",
       "    </tr>\n",
       "    <tr>\n",
       "      <th>178561</th>\n",
       "      <td>178562</td>\n",
       "      <td>1</td>\n",
       "    </tr>\n",
       "    <tr>\n",
       "      <th>178562</th>\n",
       "      <td>178563</td>\n",
       "      <td>1</td>\n",
       "    </tr>\n",
       "    <tr>\n",
       "      <th>178563</th>\n",
       "      <td>178564</td>\n",
       "      <td>1</td>\n",
       "    </tr>\n",
       "  </tbody>\n",
       "</table>\n",
       "<p>178564 rows × 2 columns</p>\n",
       "</div>"
      ],
      "text/plain": [
       "            id  target\n",
       "0            1       1\n",
       "1            2       1\n",
       "2            3       0\n",
       "3            4       1\n",
       "4            5       0\n",
       "...        ...     ...\n",
       "178559  178560       0\n",
       "178560  178561       0\n",
       "178561  178562       1\n",
       "178562  178563       1\n",
       "178563  178564       1\n",
       "\n",
       "[178564 rows x 2 columns]"
      ]
     },
     "execution_count": 35,
     "metadata": {},
     "output_type": "execute_result"
    }
   ],
   "source": [
    "actual"
   ]
  },
  {
   "cell_type": "code",
   "execution_count": 36,
   "id": "bd407d86-871b-4499-8c0f-8d40a5d8099d",
   "metadata": {},
   "outputs": [],
   "source": [
    "actual['target'] = pred_sub"
   ]
  },
  {
   "cell_type": "code",
   "execution_count": 37,
   "id": "4c9b4ffe-710b-4d38-aaf3-da561719f9d4",
   "metadata": {},
   "outputs": [],
   "source": [
    "actual.to_csv('/home/jupyter/psat/data/for_sub (3).csv', index=False)"
   ]
  },
  {
   "cell_type": "code",
   "execution_count": 25,
   "id": "411d2ab4-8ab2-44bf-a3b5-78852b8ae7f6",
   "metadata": {},
   "outputs": [
    {
     "name": "stderr",
     "output_type": "stream",
     "text": [
      "/opt/conda/lib/python3.7/site-packages/tqdm/auto.py:22: TqdmWarning: IProgress not found. Please update jupyter and ipywidgets. See https://ipywidgets.readthedocs.io/en/stable/user_install.html\n",
      "  from .autonotebook import tqdm as notebook_tqdm\n"
     ]
    }
   ],
   "source": [
    "import shap"
   ]
  },
  {
   "cell_type": "code",
   "execution_count": 26,
   "id": "ad9acfb6-e1bd-4ad6-bc82-f11877013485",
   "metadata": {},
   "outputs": [
    {
     "name": "stdout",
     "output_type": "stream",
     "text": [
      "CPU times: user 36min 57s, sys: 2.69 s, total: 37min\n",
      "Wall time: 36min 56s\n"
     ]
    }
   ],
   "source": [
    "%time shap_values = shap.TreeExplainer(clf).shap_values(X_test)"
   ]
  },
  {
   "cell_type": "code",
   "execution_count": 27,
   "id": "044d5a23-d2cb-4cde-883f-4b53e2b19726",
   "metadata": {},
   "outputs": [
    {
     "data": {
      "image/png": "[encoded data removed]",
      "text/plain": [
       "<Figure size 576x684 with 2 Axes>"
      ]
     },
     "metadata": {},
     "output_type": "display_data"
    }
   ],
   "source": [
    "shap.summary_plot(shap_values, X_test)"
   ]
  },
  {
   "cell_type": "code",
   "execution_count": null,
   "id": "71b6a185-5853-4d3e-bd5a-008b6407f940",
   "metadata": {},
   "outputs": [],
   "source": [
    "shap.dependence_plot(\"변수이름\", shap_values, X_test)"
   ]
  },
  {
   "cell_type": "markdown",
   "id": "e186bd11-7fbb-4fd3-9993-b9dfcad6837c",
   "metadata": {},
   "source": [
    "현우가 변환한 데이터로 다시 돌려보기"
   ]
  },
  {
   "cell_type": "code",
   "execution_count": null,
   "id": "4d78ccc5-b8b2-4d58-a5f0-1e95eeaa544f",
   "metadata": {},
   "outputs": [],
   "source": []
  },
  {
   "cell_type": "code",
   "execution_count": null,
   "id": "e4313414-910f-4e05-a139-75b036ddb3e3",
   "metadata": {},
   "outputs": [],
   "source": []
  },
  {
   "cell_type": "code",
   "execution_count": null,
   "id": "714cee8c-48c0-4d8d-b26c-f59d79d88f90",
   "metadata": {},
   "outputs": [],
   "source": []
  },
  {
   "cell_type": "code",
   "execution_count": null,
   "id": "759d9cee-3357-4b86-abdb-85ffc848484a",
   "metadata": {},
   "outputs": [],
   "source": []
  },
  {
   "cell_type": "code",
   "execution_count": null,
   "id": "b572b815-0976-414b-94f9-24469d712a70",
   "metadata": {},
   "outputs": [],
   "source": []
  },
  {
   "cell_type": "markdown",
   "id": "4cdae131-9926-41b4-989f-fc5dc71dcc16",
   "metadata": {},
   "source": [
    "# Local Outlier Factor"
   ]
  },
  {
   "cell_type": "code",
   "execution_count": 38,
   "id": "3596a519-9d16-46b9-b733-c18123a678eb",
   "metadata": {},
   "outputs": [],
   "source": [
    "from sklearn.neighbors import LocalOutlierFactor"
   ]
  },
  {
   "cell_type": "code",
   "execution_count": null,
   "id": "f249dd15-33c3-4a13-a231-814b8690c568",
   "metadata": {},
   "outputs": [],
   "source": [
    "X_train, X_test, y_train, y_test"
   ]
  },
  {
   "cell_type": "code",
   "execution_count": 46,
   "id": "8e2ff606-3b4e-470f-96d8-313d61b708f6",
   "metadata": {
    "collapsed": true,
    "jupyter": {
     "outputs_hidden": true
    },
    "tags": []
   },
   "outputs": [
    {
     "ename": "AttributeError",
     "evalue": "predict is not available when novelty=False, use fit_predict if you want to predict on training data. Use novelty=True if you want to use LOF for novelty detection and predict on new unseen data.",
     "output_type": "error",
     "traceback": [
      "\u001b[0;31m---------------------------------------------------------------------------\u001b[0m",
      "\u001b[0;31mAttributeError\u001b[0m                            Traceback (most recent call last)",
      "\u001b[0;32m/tmp/ipykernel_1800/343255229.py\u001b[0m in \u001b[0;36m<module>\u001b[0;34m\u001b[0m\n\u001b[1;32m      1\u001b[0m \u001b[0mlof\u001b[0m \u001b[0;34m=\u001b[0m \u001b[0mLocalOutlierFactor\u001b[0m\u001b[0;34m(\u001b[0m\u001b[0mn_neighbors\u001b[0m\u001b[0;34m=\u001b[0m\u001b[0;36m15\u001b[0m\u001b[0;34m,\u001b[0m \u001b[0mcontamination\u001b[0m\u001b[0;34m=\u001b[0m\u001b[0;36m0.1\u001b[0m\u001b[0;34m)\u001b[0m\u001b[0;34m\u001b[0m\u001b[0;34m\u001b[0m\u001b[0m\n\u001b[1;32m      2\u001b[0m \u001b[0my_pred\u001b[0m \u001b[0;34m=\u001b[0m \u001b[0mlof\u001b[0m\u001b[0;34m.\u001b[0m\u001b[0mfit\u001b[0m\u001b[0;34m(\u001b[0m\u001b[0mX_train\u001b[0m\u001b[0;34m)\u001b[0m\u001b[0;34m\u001b[0m\u001b[0;34m\u001b[0m\u001b[0m\n\u001b[0;32m----> 3\u001b[0;31m \u001b[0my_pred_test\u001b[0m \u001b[0;34m=\u001b[0m \u001b[0mlof\u001b[0m\u001b[0;34m.\u001b[0m\u001b[0mpredict\u001b[0m\u001b[0;34m(\u001b[0m\u001b[0mX_test\u001b[0m\u001b[0;34m)\u001b[0m\u001b[0;34m\u001b[0m\u001b[0;34m\u001b[0m\u001b[0m\n\u001b[0m\u001b[1;32m      4\u001b[0m \u001b[0my_pred_test\u001b[0m\u001b[0;34m\u001b[0m\u001b[0;34m\u001b[0m\u001b[0m\n",
      "\u001b[0;32m/opt/conda/lib/python3.7/site-packages/sklearn/utils/metaestimators.py\u001b[0m in \u001b[0;36m__get__\u001b[0;34m(self, obj, owner)\u001b[0m\n\u001b[1;32m    107\u001b[0m             \u001b[0;31m# delegate only on instances, not the classes.\u001b[0m\u001b[0;34m\u001b[0m\u001b[0;34m\u001b[0m\u001b[0;34m\u001b[0m\u001b[0m\n\u001b[1;32m    108\u001b[0m             \u001b[0;31m# this is to allow access to the docstrings.\u001b[0m\u001b[0;34m\u001b[0m\u001b[0;34m\u001b[0m\u001b[0;34m\u001b[0m\u001b[0m\n\u001b[0;32m--> 109\u001b[0;31m             \u001b[0;32mif\u001b[0m \u001b[0;32mnot\u001b[0m \u001b[0mself\u001b[0m\u001b[0;34m.\u001b[0m\u001b[0mcheck\u001b[0m\u001b[0;34m(\u001b[0m\u001b[0mobj\u001b[0m\u001b[0;34m)\u001b[0m\u001b[0;34m:\u001b[0m\u001b[0;34m\u001b[0m\u001b[0;34m\u001b[0m\u001b[0m\n\u001b[0m\u001b[1;32m    110\u001b[0m                 \u001b[0;32mraise\u001b[0m \u001b[0mattr_err\u001b[0m\u001b[0;34m\u001b[0m\u001b[0;34m\u001b[0m\u001b[0m\n\u001b[1;32m    111\u001b[0m \u001b[0;34m\u001b[0m\u001b[0m\n",
      "\u001b[0;32m/opt/conda/lib/python3.7/site-packages/sklearn/neighbors/_lof.py\u001b[0m in \u001b[0;36m_check_novelty_predict\u001b[0;34m(self)\u001b[0m\n\u001b[1;32m    323\u001b[0m                 \u001b[0;34m\"and predict on new unseen data.\"\u001b[0m\u001b[0;34m\u001b[0m\u001b[0;34m\u001b[0m\u001b[0m\n\u001b[1;32m    324\u001b[0m             )\n\u001b[0;32m--> 325\u001b[0;31m             \u001b[0;32mraise\u001b[0m \u001b[0mAttributeError\u001b[0m\u001b[0;34m(\u001b[0m\u001b[0mmsg\u001b[0m\u001b[0;34m)\u001b[0m\u001b[0;34m\u001b[0m\u001b[0;34m\u001b[0m\u001b[0m\n\u001b[0m\u001b[1;32m    326\u001b[0m         \u001b[0;32mreturn\u001b[0m \u001b[0;32mTrue\u001b[0m\u001b[0;34m\u001b[0m\u001b[0;34m\u001b[0m\u001b[0m\n\u001b[1;32m    327\u001b[0m \u001b[0;34m\u001b[0m\u001b[0m\n",
      "\u001b[0;31mAttributeError\u001b[0m: predict is not available when novelty=False, use fit_predict if you want to predict on training data. Use novelty=True if you want to use LOF for novelty detection and predict on new unseen data."
     ]
    }
   ],
   "source": [
    "lof = LocalOutlierFactor(n_neighbors=15, contamination=0.1)\n",
    "y_pred = lof.fit(X_train)\n",
    "# y_pred_test = lof.predict(X_test)\n",
    "# y_pred_test"
   ]
  },
  {
   "cell_type": "code",
   "execution_count": 62,
   "id": "bb8c43af-cf7b-40a2-97a5-64675bbab31f",
   "metadata": {},
   "outputs": [
    {
     "data": {
      "text/plain": [
       "array([ 1, -1,  1, ...,  1,  1,  1])"
      ]
     },
     "execution_count": 62,
     "metadata": {},
     "output_type": "execute_result"
    }
   ],
   "source": [
    "y_pred_test = lof.fit_predict(X_test)\n",
    "y_pred_test"
   ]
  },
  {
   "cell_type": "code",
   "execution_count": 77,
   "id": "314729f2-ba14-4769-a01d-bc20dd92f816",
   "metadata": {},
   "outputs": [],
   "source": [
    "y_pred_test = pd.DataFrame(y_pred_test)\n",
    "for i in range(len(y_pred_test)):\n",
    "    if y_pred_test.iloc[i,0] == 1 :\n",
    "        y_pred_test.iloc[i,0] = 0\n",
    "    else:\n",
    "        y_pred_test.iloc[i,0] = 1"
   ]
  },
  {
   "cell_type": "code",
   "execution_count": 78,
   "id": "8f330c0b-6072-48d2-ad00-1df13fcd6f3a",
   "metadata": {},
   "outputs": [
    {
     "name": "stdout",
     "output_type": "stream",
     "text": [
      "f1 score : 0.5043896615223131\n"
     ]
    }
   ],
   "source": [
    "from sklearn.metrics import f1_score\n",
    "\n",
    "f1 = f1_score(y_test, y_pred_test,average='macro')\n",
    "print('f1 score :', f1)"
   ]
  },
  {
   "cell_type": "code",
   "execution_count": 74,
   "id": "1ccf698f-aac6-4ebf-b965-f13c34effe9a",
   "metadata": {},
   "outputs": [
    {
     "ename": "KeyboardInterrupt",
     "evalue": "",
     "output_type": "error",
     "traceback": [
      "\u001b[0;31m---------------------------------------------------------------------------\u001b[0m",
      "\u001b[0;31mKeyboardInterrupt\u001b[0m                         Traceback (most recent call last)",
      "\u001b[0;32m/tmp/ipykernel_1800/3449561937.py\u001b[0m in \u001b[0;36m<module>\u001b[0;34m\u001b[0m\n\u001b[0;32m----> 1\u001b[0;31m \u001b[0my_pred_sub\u001b[0m \u001b[0;34m=\u001b[0m \u001b[0mlof\u001b[0m\u001b[0;34m.\u001b[0m\u001b[0mfit_predict\u001b[0m\u001b[0;34m(\u001b[0m\u001b[0mtest\u001b[0m\u001b[0;34m)\u001b[0m\u001b[0;34m\u001b[0m\u001b[0;34m\u001b[0m\u001b[0m\n\u001b[0m\u001b[1;32m      2\u001b[0m \u001b[0my_pred_sub\u001b[0m \u001b[0;34m=\u001b[0m \u001b[0mpd\u001b[0m\u001b[0;34m.\u001b[0m\u001b[0mDataFrame\u001b[0m\u001b[0;34m(\u001b[0m\u001b[0my_pred_sub\u001b[0m\u001b[0;34m)\u001b[0m\u001b[0;34m\u001b[0m\u001b[0;34m\u001b[0m\u001b[0m\n\u001b[1;32m      3\u001b[0m \u001b[0;31m# for i in range(len(y_pred_sub)):\u001b[0m\u001b[0;34m\u001b[0m\u001b[0;34m\u001b[0m\u001b[0;34m\u001b[0m\u001b[0m\n\u001b[1;32m      4\u001b[0m \u001b[0;31m#     if y_pred_sub.iloc[i,0] == 1 :\u001b[0m\u001b[0;34m\u001b[0m\u001b[0;34m\u001b[0m\u001b[0;34m\u001b[0m\u001b[0m\n\u001b[1;32m      5\u001b[0m \u001b[0;31m#         y_pred_sub.iloc[i,0] = 0\u001b[0m\u001b[0;34m\u001b[0m\u001b[0;34m\u001b[0m\u001b[0;34m\u001b[0m\u001b[0m\n",
      "\u001b[0;32m/opt/conda/lib/python3.7/site-packages/sklearn/utils/metaestimators.py\u001b[0m in \u001b[0;36m<lambda>\u001b[0;34m(*args, **kwargs)\u001b[0m\n\u001b[1;32m    111\u001b[0m \u001b[0;34m\u001b[0m\u001b[0m\n\u001b[1;32m    112\u001b[0m             \u001b[0;31m# lambda, but not partial, allows help() to work with update_wrapper\u001b[0m\u001b[0;34m\u001b[0m\u001b[0;34m\u001b[0m\u001b[0;34m\u001b[0m\u001b[0m\n\u001b[0;32m--> 113\u001b[0;31m             \u001b[0mout\u001b[0m \u001b[0;34m=\u001b[0m \u001b[0;32mlambda\u001b[0m \u001b[0;34m*\u001b[0m\u001b[0margs\u001b[0m\u001b[0;34m,\u001b[0m \u001b[0;34m**\u001b[0m\u001b[0mkwargs\u001b[0m\u001b[0;34m:\u001b[0m \u001b[0mself\u001b[0m\u001b[0;34m.\u001b[0m\u001b[0mfn\u001b[0m\u001b[0;34m(\u001b[0m\u001b[0mobj\u001b[0m\u001b[0;34m,\u001b[0m \u001b[0;34m*\u001b[0m\u001b[0margs\u001b[0m\u001b[0;34m,\u001b[0m \u001b[0;34m**\u001b[0m\u001b[0mkwargs\u001b[0m\u001b[0;34m)\u001b[0m  \u001b[0;31m# noqa\u001b[0m\u001b[0;34m\u001b[0m\u001b[0;34m\u001b[0m\u001b[0m\n\u001b[0m\u001b[1;32m    114\u001b[0m         \u001b[0;32melse\u001b[0m\u001b[0;34m:\u001b[0m\u001b[0;34m\u001b[0m\u001b[0;34m\u001b[0m\u001b[0m\n\u001b[1;32m    115\u001b[0m \u001b[0;34m\u001b[0m\u001b[0m\n",
      "\u001b[0;32m/opt/conda/lib/python3.7/site-packages/sklearn/neighbors/_lof.py\u001b[0m in \u001b[0;36mfit_predict\u001b[0;34m(self, X, y)\u001b[0m\n\u001b[1;32m    253\u001b[0m         \u001b[0;31m# only available for outlier detection (novelty=False)\u001b[0m\u001b[0;34m\u001b[0m\u001b[0;34m\u001b[0m\u001b[0;34m\u001b[0m\u001b[0m\n\u001b[1;32m    254\u001b[0m \u001b[0;34m\u001b[0m\u001b[0m\n\u001b[0;32m--> 255\u001b[0;31m         \u001b[0;32mreturn\u001b[0m \u001b[0mself\u001b[0m\u001b[0;34m.\u001b[0m\u001b[0mfit\u001b[0m\u001b[0;34m(\u001b[0m\u001b[0mX\u001b[0m\u001b[0;34m)\u001b[0m\u001b[0;34m.\u001b[0m\u001b[0m_predict\u001b[0m\u001b[0;34m(\u001b[0m\u001b[0;34m)\u001b[0m\u001b[0;34m\u001b[0m\u001b[0;34m\u001b[0m\u001b[0m\n\u001b[0m\u001b[1;32m    256\u001b[0m \u001b[0;34m\u001b[0m\u001b[0m\n\u001b[1;32m    257\u001b[0m     \u001b[0;32mdef\u001b[0m \u001b[0mfit\u001b[0m\u001b[0;34m(\u001b[0m\u001b[0mself\u001b[0m\u001b[0;34m,\u001b[0m \u001b[0mX\u001b[0m\u001b[0;34m,\u001b[0m \u001b[0my\u001b[0m\u001b[0;34m=\u001b[0m\u001b[0;32mNone\u001b[0m\u001b[0;34m)\u001b[0m\u001b[0;34m:\u001b[0m\u001b[0;34m\u001b[0m\u001b[0;34m\u001b[0m\u001b[0m\n",
      "\u001b[0;32m/opt/conda/lib/python3.7/site-packages/sklearn/neighbors/_lof.py\u001b[0m in \u001b[0;36mfit\u001b[0;34m(self, X, y)\u001b[0m\n\u001b[1;32m    291\u001b[0m \u001b[0;34m\u001b[0m\u001b[0m\n\u001b[1;32m    292\u001b[0m         self._distances_fit_X_, _neighbors_indices_fit_X_ = self.kneighbors(\n\u001b[0;32m--> 293\u001b[0;31m             \u001b[0mn_neighbors\u001b[0m\u001b[0;34m=\u001b[0m\u001b[0mself\u001b[0m\u001b[0;34m.\u001b[0m\u001b[0mn_neighbors_\u001b[0m\u001b[0;34m\u001b[0m\u001b[0;34m\u001b[0m\u001b[0m\n\u001b[0m\u001b[1;32m    294\u001b[0m         )\n\u001b[1;32m    295\u001b[0m \u001b[0;34m\u001b[0m\u001b[0m\n",
      "\u001b[0;32m/opt/conda/lib/python3.7/site-packages/sklearn/neighbors/_base.py\u001b[0m in \u001b[0;36mkneighbors\u001b[0;34m(self, X, n_neighbors, return_distance)\u001b[0m\n\u001b[1;32m    757\u001b[0m                     \u001b[0mmetric\u001b[0m\u001b[0;34m=\u001b[0m\u001b[0mself\u001b[0m\u001b[0;34m.\u001b[0m\u001b[0meffective_metric_\u001b[0m\u001b[0;34m,\u001b[0m\u001b[0;34m\u001b[0m\u001b[0;34m\u001b[0m\u001b[0m\n\u001b[1;32m    758\u001b[0m                     \u001b[0mn_jobs\u001b[0m\u001b[0;34m=\u001b[0m\u001b[0mn_jobs\u001b[0m\u001b[0;34m,\u001b[0m\u001b[0;34m\u001b[0m\u001b[0;34m\u001b[0m\u001b[0m\n\u001b[0;32m--> 759\u001b[0;31m                     \u001b[0;34m**\u001b[0m\u001b[0mkwds\u001b[0m\u001b[0;34m,\u001b[0m\u001b[0;34m\u001b[0m\u001b[0;34m\u001b[0m\u001b[0m\n\u001b[0m\u001b[1;32m    760\u001b[0m                 )\n\u001b[1;32m    761\u001b[0m             )\n",
      "\u001b[0;32m/opt/conda/lib/python3.7/site-packages/sklearn/metrics/pairwise.py\u001b[0m in \u001b[0;36mpairwise_distances_chunked\u001b[0;34m(X, Y, reduce_func, metric, n_jobs, working_memory, **kwds)\u001b[0m\n\u001b[1;32m   1715\u001b[0m         \u001b[0;32melse\u001b[0m\u001b[0;34m:\u001b[0m\u001b[0;34m\u001b[0m\u001b[0;34m\u001b[0m\u001b[0m\n\u001b[1;32m   1716\u001b[0m             \u001b[0mX_chunk\u001b[0m \u001b[0;34m=\u001b[0m \u001b[0mX\u001b[0m\u001b[0;34m[\u001b[0m\u001b[0msl\u001b[0m\u001b[0;34m]\u001b[0m\u001b[0;34m\u001b[0m\u001b[0;34m\u001b[0m\u001b[0m\n\u001b[0;32m-> 1717\u001b[0;31m         \u001b[0mD_chunk\u001b[0m \u001b[0;34m=\u001b[0m \u001b[0mpairwise_distances\u001b[0m\u001b[0;34m(\u001b[0m\u001b[0mX_chunk\u001b[0m\u001b[0;34m,\u001b[0m \u001b[0mY\u001b[0m\u001b[0;34m,\u001b[0m \u001b[0mmetric\u001b[0m\u001b[0;34m=\u001b[0m\u001b[0mmetric\u001b[0m\u001b[0;34m,\u001b[0m \u001b[0mn_jobs\u001b[0m\u001b[0;34m=\u001b[0m\u001b[0mn_jobs\u001b[0m\u001b[0;34m,\u001b[0m \u001b[0;34m**\u001b[0m\u001b[0mkwds\u001b[0m\u001b[0;34m)\u001b[0m\u001b[0;34m\u001b[0m\u001b[0;34m\u001b[0m\u001b[0m\n\u001b[0m\u001b[1;32m   1718\u001b[0m         if (X is Y or Y is None) and PAIRWISE_DISTANCE_FUNCTIONS.get(\n\u001b[1;32m   1719\u001b[0m             \u001b[0mmetric\u001b[0m\u001b[0;34m,\u001b[0m \u001b[0;32mNone\u001b[0m\u001b[0;34m\u001b[0m\u001b[0;34m\u001b[0m\u001b[0m\n",
      "\u001b[0;32m/opt/conda/lib/python3.7/site-packages/sklearn/metrics/pairwise.py\u001b[0m in \u001b[0;36mpairwise_distances\u001b[0;34m(X, Y, metric, n_jobs, force_all_finite, **kwds)\u001b[0m\n\u001b[1;32m   1887\u001b[0m         \u001b[0mfunc\u001b[0m \u001b[0;34m=\u001b[0m \u001b[0mpartial\u001b[0m\u001b[0;34m(\u001b[0m\u001b[0mdistance\u001b[0m\u001b[0;34m.\u001b[0m\u001b[0mcdist\u001b[0m\u001b[0;34m,\u001b[0m \u001b[0mmetric\u001b[0m\u001b[0;34m=\u001b[0m\u001b[0mmetric\u001b[0m\u001b[0;34m,\u001b[0m \u001b[0;34m**\u001b[0m\u001b[0mkwds\u001b[0m\u001b[0;34m)\u001b[0m\u001b[0;34m\u001b[0m\u001b[0;34m\u001b[0m\u001b[0m\n\u001b[1;32m   1888\u001b[0m \u001b[0;34m\u001b[0m\u001b[0m\n\u001b[0;32m-> 1889\u001b[0;31m     \u001b[0;32mreturn\u001b[0m \u001b[0m_parallel_pairwise\u001b[0m\u001b[0;34m(\u001b[0m\u001b[0mX\u001b[0m\u001b[0;34m,\u001b[0m \u001b[0mY\u001b[0m\u001b[0;34m,\u001b[0m \u001b[0mfunc\u001b[0m\u001b[0;34m,\u001b[0m \u001b[0mn_jobs\u001b[0m\u001b[0;34m,\u001b[0m \u001b[0;34m**\u001b[0m\u001b[0mkwds\u001b[0m\u001b[0;34m)\u001b[0m\u001b[0;34m\u001b[0m\u001b[0;34m\u001b[0m\u001b[0m\n\u001b[0m\u001b[1;32m   1890\u001b[0m \u001b[0;34m\u001b[0m\u001b[0m\n\u001b[1;32m   1891\u001b[0m \u001b[0;34m\u001b[0m\u001b[0m\n",
      "\u001b[0;32m/opt/conda/lib/python3.7/site-packages/sklearn/metrics/pairwise.py\u001b[0m in \u001b[0;36m_parallel_pairwise\u001b[0;34m(X, Y, func, n_jobs, **kwds)\u001b[0m\n\u001b[1;32m   1428\u001b[0m \u001b[0;34m\u001b[0m\u001b[0m\n\u001b[1;32m   1429\u001b[0m     \u001b[0;32mif\u001b[0m \u001b[0meffective_n_jobs\u001b[0m\u001b[0;34m(\u001b[0m\u001b[0mn_jobs\u001b[0m\u001b[0;34m)\u001b[0m \u001b[0;34m==\u001b[0m \u001b[0;36m1\u001b[0m\u001b[0;34m:\u001b[0m\u001b[0;34m\u001b[0m\u001b[0;34m\u001b[0m\u001b[0m\n\u001b[0;32m-> 1430\u001b[0;31m         \u001b[0;32mreturn\u001b[0m \u001b[0mfunc\u001b[0m\u001b[0;34m(\u001b[0m\u001b[0mX\u001b[0m\u001b[0;34m,\u001b[0m \u001b[0mY\u001b[0m\u001b[0;34m,\u001b[0m \u001b[0;34m**\u001b[0m\u001b[0mkwds\u001b[0m\u001b[0;34m)\u001b[0m\u001b[0;34m\u001b[0m\u001b[0;34m\u001b[0m\u001b[0m\n\u001b[0m\u001b[1;32m   1431\u001b[0m \u001b[0;34m\u001b[0m\u001b[0m\n\u001b[1;32m   1432\u001b[0m     \u001b[0;31m# enforce a threading backend to prevent data communication overhead\u001b[0m\u001b[0;34m\u001b[0m\u001b[0;34m\u001b[0m\u001b[0;34m\u001b[0m\u001b[0m\n",
      "\u001b[0;32m/opt/conda/lib/python3.7/site-packages/sklearn/metrics/pairwise.py\u001b[0m in \u001b[0;36meuclidean_distances\u001b[0;34m(X, Y, Y_norm_squared, squared, X_norm_squared)\u001b[0m\n\u001b[1;32m    328\u001b[0m             )\n\u001b[1;32m    329\u001b[0m \u001b[0;34m\u001b[0m\u001b[0m\n\u001b[0;32m--> 330\u001b[0;31m     \u001b[0;32mreturn\u001b[0m \u001b[0m_euclidean_distances\u001b[0m\u001b[0;34m(\u001b[0m\u001b[0mX\u001b[0m\u001b[0;34m,\u001b[0m \u001b[0mY\u001b[0m\u001b[0;34m,\u001b[0m \u001b[0mX_norm_squared\u001b[0m\u001b[0;34m,\u001b[0m \u001b[0mY_norm_squared\u001b[0m\u001b[0;34m,\u001b[0m \u001b[0msquared\u001b[0m\u001b[0;34m)\u001b[0m\u001b[0;34m\u001b[0m\u001b[0;34m\u001b[0m\u001b[0m\n\u001b[0m\u001b[1;32m    331\u001b[0m \u001b[0;34m\u001b[0m\u001b[0m\n\u001b[1;32m    332\u001b[0m \u001b[0;34m\u001b[0m\u001b[0m\n",
      "\u001b[0;32m/opt/conda/lib/python3.7/site-packages/sklearn/metrics/pairwise.py\u001b[0m in \u001b[0;36m_euclidean_distances\u001b[0;34m(X, Y, X_norm_squared, Y_norm_squared, squared)\u001b[0m\n\u001b[1;32m    370\u001b[0m         \u001b[0;31m# if dtype is already float64, no need to chunk and upcast\u001b[0m\u001b[0;34m\u001b[0m\u001b[0;34m\u001b[0m\u001b[0;34m\u001b[0m\u001b[0m\n\u001b[1;32m    371\u001b[0m         \u001b[0mdistances\u001b[0m \u001b[0;34m=\u001b[0m \u001b[0;34m-\u001b[0m\u001b[0;36m2\u001b[0m \u001b[0;34m*\u001b[0m \u001b[0msafe_sparse_dot\u001b[0m\u001b[0;34m(\u001b[0m\u001b[0mX\u001b[0m\u001b[0;34m,\u001b[0m \u001b[0mY\u001b[0m\u001b[0;34m.\u001b[0m\u001b[0mT\u001b[0m\u001b[0;34m,\u001b[0m \u001b[0mdense_output\u001b[0m\u001b[0;34m=\u001b[0m\u001b[0;32mTrue\u001b[0m\u001b[0;34m)\u001b[0m\u001b[0;34m\u001b[0m\u001b[0;34m\u001b[0m\u001b[0m\n\u001b[0;32m--> 372\u001b[0;31m         \u001b[0mdistances\u001b[0m \u001b[0;34m+=\u001b[0m \u001b[0mXX\u001b[0m\u001b[0;34m\u001b[0m\u001b[0;34m\u001b[0m\u001b[0m\n\u001b[0m\u001b[1;32m    373\u001b[0m         \u001b[0mdistances\u001b[0m \u001b[0;34m+=\u001b[0m \u001b[0mYY\u001b[0m\u001b[0;34m\u001b[0m\u001b[0;34m\u001b[0m\u001b[0m\n\u001b[1;32m    374\u001b[0m     \u001b[0mnp\u001b[0m\u001b[0;34m.\u001b[0m\u001b[0mmaximum\u001b[0m\u001b[0;34m(\u001b[0m\u001b[0mdistances\u001b[0m\u001b[0;34m,\u001b[0m \u001b[0;36m0\u001b[0m\u001b[0;34m,\u001b[0m \u001b[0mout\u001b[0m\u001b[0;34m=\u001b[0m\u001b[0mdistances\u001b[0m\u001b[0;34m)\u001b[0m\u001b[0;34m\u001b[0m\u001b[0;34m\u001b[0m\u001b[0m\n",
      "\u001b[0;31mKeyboardInterrupt\u001b[0m: "
     ]
    }
   ],
   "source": [
    "y_pred_sub = lof.fit_predict(test)\n",
    "y_pred_sub = pd.DataFrame(y_pred_sub)\n",
    "# for i in range(len(y_pred_sub)):\n",
    "#     if y_pred_sub.iloc[i,0] == 1 :\n",
    "#         y_pred_sub.iloc[i,0] = 0\n",
    "#     else:\n",
    "#         y_pred_sub.iloc[i,0] = 1"
   ]
  },
  {
   "cell_type": "code",
   "execution_count": null,
   "id": "2b327baf-72ac-49d8-8977-d953711673c5",
   "metadata": {},
   "outputs": [],
   "source": [
    "y_pred_sub"
   ]
  },
  {
   "cell_type": "code",
   "execution_count": 67,
   "id": "f113b1e0-f7a8-488e-a31c-ab9d2a504cc2",
   "metadata": {},
   "outputs": [],
   "source": [
    "actual['target'] = y_pred_sub"
   ]
  },
  {
   "cell_type": "code",
   "execution_count": 69,
   "id": "3a72a4a8-a4de-4366-8532-897cd912fb50",
   "metadata": {},
   "outputs": [],
   "source": [
    "actual.to_csv('/home/jupyter/psat/data/for_sub (5).csv', index=False)"
   ]
  },
  {
   "cell_type": "markdown",
   "id": "aca365d0-5e5d-4450-87c9-04c6efc27948",
   "metadata": {},
   "source": [
    "# multinomial Naive Bayes"
   ]
  },
  {
   "cell_type": "code",
   "execution_count": 70,
   "id": "9a559ead-d4a1-433d-936b-4221dd862eb8",
   "metadata": {},
   "outputs": [],
   "source": [
    "from sklearn.naive_bayes import MultinomialNB"
   ]
  },
  {
   "cell_type": "code",
   "execution_count": 71,
   "id": "b9afe4f5-b452-46a3-961d-4157f32bfb76",
   "metadata": {},
   "outputs": [],
   "source": [
    "clf = MultinomialNB()\n",
    "clf.fit(X_train, y_train)\n",
    "y_pred = clf.predict(X_test)"
   ]
  },
  {
   "cell_type": "code",
   "execution_count": 73,
   "id": "a5d40fc1-3888-4a26-aeac-fcabf1922830",
   "metadata": {},
   "outputs": [
    {
     "name": "stdout",
     "output_type": "stream",
     "text": [
      "f1 score : 0.5164861565272226\n"
     ]
    }
   ],
   "source": [
    "from sklearn.metrics import f1_score\n",
    "\n",
    "f1 = f1_score(y_test, y_pred,average='macro')\n",
    "print('f1 score :', f1)"
   ]
  },
  {
   "cell_type": "code",
   "execution_count": 79,
   "id": "edd6553e-42d9-4423-b03a-88c2b8b8368f",
   "metadata": {},
   "outputs": [],
   "source": [
    "y_sub = clf.predict(test)\n",
    "actual['target'] = y_sub\n",
    "actual.to_csv('/home/jupyter/psat/data/for_sub (6).csv', index=False)"
   ]
  },
  {
   "cell_type": "code",
   "execution_count": 85,
   "id": "871fc562-c31d-41ed-a69f-90a880dba0b7",
   "metadata": {},
   "outputs": [
    {
     "data": {
      "text/plain": [
       "[0, 0, 0, 0, 0, ..., 0, 0, 0, 0, 0]\n",
       "Length: 333318\n",
       "Categories (2, int64): [0, 1]"
      ]
     },
     "execution_count": 85,
     "metadata": {},
     "output_type": "execute_result"
    }
   ],
   "source": [
    "y_train"
   ]
  },
  {
   "cell_type": "code",
   "execution_count": 87,
   "id": "7ffe7961-d654-4618-82ca-5d2672785065",
   "metadata": {},
   "outputs": [],
   "source": [
    "import seaborn as sns"
   ]
  },
  {
   "cell_type": "code",
   "execution_count": 88,
   "id": "888a59c9-b054-4b1a-a2b5-4f4b57058ecb",
   "metadata": {},
   "outputs": [
    {
     "name": "stderr",
     "output_type": "stream",
     "text": [
      "/opt/conda/lib/python3.7/site-packages/seaborn/_decorators.py:43: FutureWarning: Pass the following variable as a keyword arg: x. From version 0.12, the only valid positional argument will be `data`, and passing other arguments without an explicit keyword will result in an error or misinterpretation.\n",
      "  FutureWarning\n"
     ]
    },
    {
     "data": {
      "text/plain": [
       "<AxesSubplot:ylabel='count'>"
      ]
     },
     "execution_count": 88,
     "metadata": {},
     "output_type": "execute_result"
    },
    {
     "data": {
      "image/png": "[encoded data removed]",
      "text/plain": [
       "<Figure size 432x288 with 1 Axes>"
      ]
     },
     "metadata": {},
     "output_type": "display_data"
    }
   ],
   "source": [
    "sns.countplot(y_train)"
   ]
  },
  {
   "cell_type": "code",
   "execution_count": null,
   "id": "1ad8e432-2c5b-4e01-8bae-d9d4e62db1d4",
   "metadata": {},
   "outputs": [],
   "source": []
  }
 ],
 "metadata": {
  "environment": {
   "kernel": "python3",
   "name": "r-cpu.4-1.m94",
   "type": "gcloud",
   "uri": "gcr.io/deeplearning-platform-release/r-cpu.4-1:m94"
  },
  "kernelspec": {
   "display_name": "Python 3",
   "language": "python",
   "name": "python3"
  },
  "language_info": {
   "codemirror_mode": {
    "name": "ipython",
    "version": 3
   },
   "file_extension": ".py",
   "mimetype": "text/x-python",
   "name": "python",
   "nbconvert_exporter": "python",
   "pygments_lexer": "ipython3",
   "version": "3.7.12"
  }
 },
 "nbformat": 4,
 "nbformat_minor": 5
}
